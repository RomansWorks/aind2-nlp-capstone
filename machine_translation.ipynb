{
  "cells": [
    {
      "cell_type": "markdown",
      "metadata": {
        "collapsed": true,
        "id": "4UwZX04ZTTfi"
      },
      "source": [
        "# Artificial Intelligence Nanodegree\n",
        "## Machine Translation Project\n",
        "In this notebook, sections that end with **'(IMPLEMENTATION)'** in the header indicate that the following blocks of code will require additional functionality which you must provide. Please be sure to read the instructions carefully!\n",
        "\n",
        "## Introduction\n",
        "In this notebook, you will build a deep neural network that functions as part of an end-to-end machine translation pipeline. Your completed pipeline will accept English text as input and return the French translation.\n",
        "\n",
        "- **Preprocess** - You'll convert text to sequence of integers.\n",
        "- **Models** Create models which accepts a sequence of integers as input and returns a probability distribution over possible translations. After learning about the basic types of neural networks that are often used for machine translation, you will engage in your own investigations, to design your own model!\n",
        "- **Prediction** Run the model on English text."
      ]
    },
    {
      "cell_type": "code",
      "execution_count": 1,
      "metadata": {
        "id": "X84wIac1TTfm"
      },
      "outputs": [],
      "source": [
        "%load_ext autoreload\n",
        "#%aimport helper, tests\n",
        "%autoreload 1"
      ]
    },
    {
      "cell_type": "code",
      "source": [
        "!rm -rf aind2-nlp-capstone/\n",
        "!git clone https://github.com/RomansWorks/aind2-nlp-capstone"
      ],
      "metadata": {
        "colab": {
          "base_uri": "https://localhost:8080/"
        },
        "id": "IERMVOtRTth1",
        "outputId": "481d3f5a-137a-4abf-9d0a-7d2c02356ec7"
      },
      "execution_count": 2,
      "outputs": [
        {
          "output_type": "stream",
          "name": "stdout",
          "text": [
            "Cloning into 'aind2-nlp-capstone'...\n",
            "remote: Enumerating objects: 61, done.\u001b[K\n",
            "remote: Counting objects: 100% (18/18), done.\u001b[K\n",
            "remote: Compressing objects: 100% (14/14), done.\u001b[K\n",
            "remote: Total 61 (delta 5), reused 7 (delta 2), pack-reused 43\u001b[K\n",
            "Unpacking objects: 100% (61/61), done.\n"
          ]
        }
      ]
    },
    {
      "cell_type": "code",
      "source": [
        "!cp -r ./aind2-nlp-capstone/* ."
      ],
      "metadata": {
        "id": "hxFlAx_LXWD-"
      },
      "execution_count": 3,
      "outputs": []
    },
    {
      "cell_type": "code",
      "execution_count": 4,
      "metadata": {
        "id": "5C0VjfffTTfn"
      },
      "outputs": [],
      "source": [
        "import collections\n",
        "\n",
        "import helper\n",
        "import numpy as np\n",
        "import project_tests_collab as tests\n",
        "\n",
        "from keras.preprocessing.text import Tokenizer\n",
        "from keras.preprocessing.sequence import pad_sequences\n",
        "from keras.models import Model\n",
        "from keras.layers import GRU, Input, Dense, TimeDistributed, Activation, RepeatVector, Bidirectional, Reshape, Average\n",
        "from keras.layers.embeddings import Embedding\n",
        "from tensorflow.keras.optimizers import Adam\n",
        "from keras.losses import sparse_categorical_crossentropy"
      ]
    },
    {
      "cell_type": "markdown",
      "metadata": {
        "id": "tZolAoobTTfo"
      },
      "source": [
        "### Verify access to the GPU\n",
        "The following test applies only if you expect to be using a GPU, e.g., while running in a Udacity Workspace or using an AWS instance with GPU support. Run the next cell, and verify that the device_type is \"GPU\".\n",
        "- If the device is not GPU & you are running from a Udacity Workspace, then save your workspace with the icon at the top, then click \"enable\" at the bottom of the workspace.\n",
        "- If the device is not GPU & you are running from an AWS instance, then refer to the cloud computing instructions in the classroom to verify your setup steps."
      ]
    },
    {
      "cell_type": "code",
      "execution_count": 5,
      "metadata": {
        "colab": {
          "base_uri": "https://localhost:8080/"
        },
        "id": "WwF8U9Z3TTfp",
        "outputId": "2dbab090-8856-43eb-b6c7-8c326797c705"
      },
      "outputs": [
        {
          "output_type": "stream",
          "name": "stdout",
          "text": [
            "[name: \"/device:CPU:0\"\n",
            "device_type: \"CPU\"\n",
            "memory_limit: 268435456\n",
            "locality {\n",
            "}\n",
            "incarnation: 5196600993074163305\n",
            "xla_global_id: -1\n",
            ", name: \"/device:GPU:0\"\n",
            "device_type: \"GPU\"\n",
            "memory_limit: 11320098816\n",
            "locality {\n",
            "  bus_id: 1\n",
            "  links {\n",
            "  }\n",
            "}\n",
            "incarnation: 17026936952757874346\n",
            "physical_device_desc: \"device: 0, name: Tesla K80, pci bus id: 0000:00:04.0, compute capability: 3.7\"\n",
            "xla_global_id: 416903419\n",
            "]\n"
          ]
        }
      ],
      "source": [
        "from tensorflow.python.client import device_lib\n",
        "print(device_lib.list_local_devices())"
      ]
    },
    {
      "cell_type": "markdown",
      "metadata": {
        "id": "jgLxY_ugTTfp"
      },
      "source": [
        "## Dataset\n",
        "We begin by investigating the dataset that will be used to train and evaluate your pipeline.  The most common datasets used for machine translation are from [WMT](http://www.statmt.org/).  However, that will take a long time to train a neural network on.  We'll be using a dataset we created for this project that contains a small vocabulary.  You'll be able to train your model in a reasonable time with this dataset.\n",
        "### Load Data\n",
        "The data is located in `data/small_vocab_en` and `data/small_vocab_fr`. The `small_vocab_en` file contains English sentences with their French translations in the `small_vocab_fr` file. Load the English and French data from these files from running the cell below."
      ]
    },
    {
      "cell_type": "code",
      "execution_count": 6,
      "metadata": {
        "colab": {
          "base_uri": "https://localhost:8080/"
        },
        "id": "eGDRFqgzTTfq",
        "outputId": "290c6aaf-2171-4014-afc9-7015097633f6"
      },
      "outputs": [
        {
          "output_type": "stream",
          "name": "stdout",
          "text": [
            "Dataset Loaded\n"
          ]
        }
      ],
      "source": [
        "# Load English data\n",
        "english_sentences = helper.load_data('data/small_vocab_en')\n",
        "# Load French data\n",
        "french_sentences = helper.load_data('data/small_vocab_fr')\n",
        "\n",
        "print('Dataset Loaded')"
      ]
    },
    {
      "cell_type": "markdown",
      "metadata": {
        "id": "tf11a0tnTTfr"
      },
      "source": [
        "### Files\n",
        "Each line in `small_vocab_en` contains an English sentence with the respective translation in each line of `small_vocab_fr`.  View the first two lines from each file."
      ]
    },
    {
      "cell_type": "code",
      "execution_count": 7,
      "metadata": {
        "colab": {
          "base_uri": "https://localhost:8080/"
        },
        "id": "HYPw-XFVTTfr",
        "outputId": "362a1bfc-37ff-46d6-f02c-acaf50a51388"
      },
      "outputs": [
        {
          "output_type": "stream",
          "name": "stdout",
          "text": [
            "small_vocab_en Line 1:  new jersey is sometimes quiet during autumn , and it is snowy in april .\n",
            "small_vocab_fr Line 1:  new jersey est parfois calme pendant l' automne , et il est neigeux en avril .\n",
            "small_vocab_en Line 2:  the united states is usually chilly during july , and it is usually freezing in november .\n",
            "small_vocab_fr Line 2:  les états-unis est généralement froid en juillet , et il gèle habituellement en novembre .\n"
          ]
        }
      ],
      "source": [
        "for sample_i in range(2):\n",
        "    print('small_vocab_en Line {}:  {}'.format(sample_i + 1, english_sentences[sample_i]))\n",
        "    print('small_vocab_fr Line {}:  {}'.format(sample_i + 1, french_sentences[sample_i]))"
      ]
    },
    {
      "cell_type": "markdown",
      "metadata": {
        "id": "1H1KCtbrTTfs"
      },
      "source": [
        "From looking at the sentences, you can see they have been preprocessed already.  The puncuations have been delimited using spaces. All the text have been converted to lowercase.  This should save you some time, but the text requires more preprocessing.\n",
        "### Vocabulary\n",
        "The complexity of the problem is determined by the complexity of the vocabulary.  A more complex vocabulary is a more complex problem.  Let's look at the complexity of the dataset we'll be working with."
      ]
    },
    {
      "cell_type": "code",
      "execution_count": 8,
      "metadata": {
        "colab": {
          "base_uri": "https://localhost:8080/"
        },
        "id": "nKLu5xSTTTfs",
        "outputId": "69dc6eba-3c86-4c88-9c0b-5727b90b66df"
      },
      "outputs": [
        {
          "output_type": "stream",
          "name": "stdout",
          "text": [
            "1823250 English words.\n",
            "227 unique English words.\n",
            "10 Most common words in the English dataset:\n",
            "\"is\" \",\" \".\" \"in\" \"it\" \"during\" \"the\" \"but\" \"and\" \"sometimes\"\n",
            "\n",
            "1961295 French words.\n",
            "355 unique French words.\n",
            "10 Most common words in the French dataset:\n",
            "\"est\" \".\" \",\" \"en\" \"il\" \"les\" \"mais\" \"et\" \"la\" \"parfois\"\n"
          ]
        }
      ],
      "source": [
        "english_words_counter = collections.Counter([word for sentence in english_sentences for word in sentence.split()])\n",
        "french_words_counter = collections.Counter([word for sentence in french_sentences for word in sentence.split()])\n",
        "\n",
        "print('{} English words.'.format(len([word for sentence in english_sentences for word in sentence.split()])))\n",
        "print('{} unique English words.'.format(len(english_words_counter)))\n",
        "print('10 Most common words in the English dataset:')\n",
        "print('\"' + '\" \"'.join(list(zip(*english_words_counter.most_common(10)))[0]) + '\"')\n",
        "print()\n",
        "print('{} French words.'.format(len([word for sentence in french_sentences for word in sentence.split()])))\n",
        "print('{} unique French words.'.format(len(french_words_counter)))\n",
        "print('10 Most common words in the French dataset:')\n",
        "print('\"' + '\" \"'.join(list(zip(*french_words_counter.most_common(10)))[0]) + '\"')"
      ]
    },
    {
      "cell_type": "markdown",
      "metadata": {
        "id": "iP-T465sTTft"
      },
      "source": [
        "For comparison, _Alice's Adventures in Wonderland_ contains 2,766 unique words of a total of 15,500 words.\n",
        "## Preprocess\n",
        "For this project, you won't use text data as input to your model. Instead, you'll convert the text into sequences of integers using the following preprocess methods:\n",
        "1. Tokenize the words into ids\n",
        "2. Add padding to make all the sequences the same length.\n",
        "\n",
        "Time to start preprocessing the data...\n",
        "### Tokenize (IMPLEMENTATION)\n",
        "For a neural network to predict on text data, it first has to be turned into data it can understand. Text data like \"dog\" is a sequence of ASCII character encodings.  Since a neural network is a series of multiplication and addition operations, the input data needs to be number(s).\n",
        "\n",
        "We can turn each character into a number or each word into a number.  These are called character and word ids, respectively.  Character ids are used for character level models that generate text predictions for each character.  A word level model uses word ids that generate text predictions for each word.  Word level models tend to learn better, since they are lower in complexity, so we'll use those.\n",
        "\n",
        "Turn each sentence into a sequence of words ids using Keras's [`Tokenizer`](https://keras.io/preprocessing/text/#tokenizer) function. Use this function to tokenize `english_sentences` and `french_sentences` in the cell below.\n",
        "\n",
        "Running the cell will run `tokenize` on sample data and show output for debugging."
      ]
    },
    {
      "cell_type": "code",
      "execution_count": 9,
      "metadata": {
        "colab": {
          "base_uri": "https://localhost:8080/"
        },
        "id": "4XJObKc_TTft",
        "outputId": "75ea5923-322a-40b4-d178-afa225320aa9"
      },
      "outputs": [
        {
          "output_type": "stream",
          "name": "stdout",
          "text": [
            "{'the': 1, 'quick': 2, 'a': 3, 'brown': 4, 'fox': 5, 'jumps': 6, 'over': 7, 'lazy': 8, 'dog': 9, 'by': 10, 'jove': 11, 'my': 12, 'study': 13, 'of': 14, 'lexicography': 15, 'won': 16, 'prize': 17, 'this': 18, 'is': 19, 'short': 20, 'sentence': 21}\n",
            "\n",
            "Sequence 1 in x\n",
            "  Input:  The quick brown fox jumps over the lazy dog .\n",
            "  Output: [1, 2, 4, 5, 6, 7, 1, 8, 9]\n",
            "Sequence 2 in x\n",
            "  Input:  By Jove , my quick study of lexicography won a prize .\n",
            "  Output: [10, 11, 12, 2, 13, 14, 15, 16, 3, 17]\n",
            "Sequence 3 in x\n",
            "  Input:  This is a short sentence .\n",
            "  Output: [18, 19, 3, 20, 21]\n"
          ]
        }
      ],
      "source": [
        "def tokenize(x):\n",
        "    \"\"\"\n",
        "    Tokenize x\n",
        "    :param x: List of sentences/strings to be tokenized\n",
        "    :return: Tuple of (tokenized x data, tokenizer used to tokenize x)\n",
        "    \"\"\"\n",
        "    tkzr = Tokenizer()\n",
        "    tkzr.fit_on_texts(x)\n",
        "\n",
        "    return tkzr.texts_to_sequences(x), tkzr\n",
        "\n",
        "tests.test_tokenize(tokenize)\n",
        "\n",
        "# Tokenize Example output\n",
        "text_sentences = [\n",
        "    'The quick brown fox jumps over the lazy dog .',\n",
        "    'By Jove , my quick study of lexicography won a prize .',\n",
        "    'This is a short sentence .']\n",
        "text_tokenized, text_tokenizer = tokenize(text_sentences)\n",
        "print(text_tokenizer.word_index)\n",
        "print()\n",
        "for sample_i, (sent, token_sent) in enumerate(zip(text_sentences, text_tokenized)):\n",
        "    print('Sequence {} in x'.format(sample_i + 1))\n",
        "    print('  Input:  {}'.format(sent))\n",
        "    print('  Output: {}'.format(token_sent))"
      ]
    },
    {
      "cell_type": "markdown",
      "metadata": {
        "id": "pXo78wkbTTfu"
      },
      "source": [
        "### Padding (IMPLEMENTATION)\n",
        "When batching the sequence of word ids together, each sequence needs to be the same length.  Since sentences are dynamic in length, we can add padding to the end of the sequences to make them the same length.\n",
        "\n",
        "Make sure all the English sequences have the same length and all the French sequences have the same length by adding padding to the **end** of each sequence using Keras's [`pad_sequences`](https://keras.io/preprocessing/sequence/#pad_sequences) function."
      ]
    },
    {
      "cell_type": "code",
      "execution_count": 10,
      "metadata": {
        "colab": {
          "base_uri": "https://localhost:8080/"
        },
        "id": "4-2bSqyVTTfu",
        "outputId": "72712952-3a7c-4485-c0b4-857b973f6afd"
      },
      "outputs": [
        {
          "output_type": "stream",
          "name": "stdout",
          "text": [
            "Sequence 1 in x\n",
            "  Input:  [1 2 4 5 6 7 1 8 9]\n",
            "  Output: [1 2 4 5 6 7 1 8 9 0]\n",
            "Sequence 2 in x\n",
            "  Input:  [10 11 12  2 13 14 15 16  3 17]\n",
            "  Output: [10 11 12  2 13 14 15 16  3 17]\n",
            "Sequence 3 in x\n",
            "  Input:  [18 19  3 20 21]\n",
            "  Output: [18 19  3 20 21  0  0  0  0  0]\n"
          ]
        }
      ],
      "source": [
        "def pad(x, length=None):\n",
        "    \"\"\"\n",
        "    Pad x\n",
        "    :param x: List of sequences.\n",
        "    :param length: Length to pad the sequence to.  If None, use length of longest sequence in x.\n",
        "    :return: Padded numpy array of sequences\n",
        "    \"\"\"\n",
        "    if length is None:\n",
        "        length = max([len(sentence) for sentence in x])\n",
        "    return pad_sequences(x, maxlen=length, padding='post')\n",
        "tests.test_pad(pad)\n",
        "\n",
        "# Pad Tokenized output\n",
        "test_pad = pad(text_tokenized)\n",
        "for sample_i, (token_sent, pad_sent) in enumerate(zip(text_tokenized, test_pad)):\n",
        "    print('Sequence {} in x'.format(sample_i + 1))\n",
        "    print('  Input:  {}'.format(np.array(token_sent)))\n",
        "    print('  Output: {}'.format(pad_sent))"
      ]
    },
    {
      "cell_type": "markdown",
      "metadata": {
        "id": "ErDVIIkBTTfu"
      },
      "source": [
        "### Preprocess Pipeline\n",
        "Your focus for this project is to build neural network architecture, so we won't ask you to create a preprocess pipeline.  Instead, we've provided you with the implementation of the `preprocess` function."
      ]
    },
    {
      "cell_type": "code",
      "execution_count": 11,
      "metadata": {
        "colab": {
          "base_uri": "https://localhost:8080/"
        },
        "id": "uo-kxqaETTfv",
        "outputId": "7aa83998-a3df-4f24-e6fa-7b5a937e738b"
      },
      "outputs": [
        {
          "output_type": "stream",
          "name": "stdout",
          "text": [
            "Data Preprocessed\n",
            "Max English sentence length: 15\n",
            "Max French sentence length: 21\n",
            "English vocabulary size: 199\n",
            "French vocabulary size: 344\n"
          ]
        }
      ],
      "source": [
        "def preprocess(x, y):\n",
        "    \"\"\"\n",
        "    Preprocess x and y\n",
        "    :param x: Feature List of sentences\n",
        "    :param y: Label List of sentences\n",
        "    :return: Tuple of (Preprocessed x, Preprocessed y, x tokenizer, y tokenizer)\n",
        "    \"\"\"\n",
        "    preprocess_x, x_tk = tokenize(x)\n",
        "    preprocess_y, y_tk = tokenize(y)\n",
        "\n",
        "    preprocess_x = pad(preprocess_x)\n",
        "    preprocess_y = pad(preprocess_y)\n",
        "\n",
        "    # Keras's sparse_categorical_crossentropy function requires the labels to be in 3 dimensions\n",
        "    preprocess_y = preprocess_y.reshape(*preprocess_y.shape, 1)\n",
        "\n",
        "    return preprocess_x, preprocess_y, x_tk, y_tk\n",
        "\n",
        "preproc_english_sentences, preproc_french_sentences, english_tokenizer, french_tokenizer =\\\n",
        "    preprocess(english_sentences, french_sentences)\n",
        "    \n",
        "max_english_sequence_length = preproc_english_sentences.shape[1]\n",
        "max_french_sequence_length = preproc_french_sentences.shape[1]\n",
        "english_vocab_size = len(english_tokenizer.word_index)\n",
        "french_vocab_size = len(french_tokenizer.word_index)\n",
        "\n",
        "print('Data Preprocessed')\n",
        "print(\"Max English sentence length:\", max_english_sequence_length)\n",
        "print(\"Max French sentence length:\", max_french_sequence_length)\n",
        "print(\"English vocabulary size:\", english_vocab_size)\n",
        "print(\"French vocabulary size:\", french_vocab_size)"
      ]
    },
    {
      "cell_type": "markdown",
      "metadata": {
        "id": "pvW53ehFTTfv"
      },
      "source": [
        "## Models\n",
        "In this section, you will experiment with various neural network architectures.\n",
        "You will begin by training four relatively simple architectures.\n",
        "- Model 1 is a simple RNN\n",
        "- Model 2 is a RNN with Embedding\n",
        "- Model 3 is a Bidirectional RNN\n",
        "- Model 4 is an optional Encoder-Decoder RNN\n",
        "\n",
        "After experimenting with the four simple architectures, you will construct a deeper architecture that is designed to outperform all four models.\n",
        "### Ids Back to Text\n",
        "The neural network will be translating the input to words ids, which isn't the final form we want.  We want the French translation.  The function `logits_to_text` will bridge the gab between the logits from the neural network to the French translation.  You'll be using this function to better understand the output of the neural network."
      ]
    },
    {
      "cell_type": "code",
      "execution_count": 12,
      "metadata": {
        "colab": {
          "base_uri": "https://localhost:8080/"
        },
        "id": "D9aiRYMLTTfv",
        "outputId": "d7dae472-51b2-4d4a-9666-78a6b89e1d45"
      },
      "outputs": [
        {
          "output_type": "stream",
          "name": "stdout",
          "text": [
            "`logits_to_text` function loaded.\n"
          ]
        }
      ],
      "source": [
        "def logits_to_text(logits, tokenizer):\n",
        "    \"\"\"\n",
        "    Turn logits from a neural network into text using the tokenizer\n",
        "    :param logits: Logits from a neural network\n",
        "    :param tokenizer: Keras Tokenizer fit on the labels\n",
        "    :return: String that represents the text of the logits\n",
        "    \"\"\"\n",
        "    index_to_words = {id: word for word, id in tokenizer.word_index.items()}\n",
        "    index_to_words[0] = '<PAD>'\n",
        "\n",
        "    return ' '.join([index_to_words[prediction] for prediction in np.argmax(logits, 1)])\n",
        "\n",
        "print('`logits_to_text` function loaded.')"
      ]
    },
    {
      "cell_type": "markdown",
      "metadata": {
        "id": "AXewDdzcTTfw"
      },
      "source": [
        "### Model 1: RNN (IMPLEMENTATION)\n",
        "![RNN](images/rnn.png)\n",
        "A basic RNN model is a good baseline for sequence data.  In this model, you'll build a RNN that translates English to French."
      ]
    },
    {
      "cell_type": "code",
      "execution_count": 13,
      "metadata": {
        "colab": {
          "base_uri": "https://localhost:8080/"
        },
        "id": "2zwsXP0TTTfw",
        "outputId": "8198012d-3d63-4114-88f2-4ac1d045c0ee"
      },
      "outputs": [
        {
          "output_type": "stream",
          "name": "stdout",
          "text": [
            "(137861, 21)\n",
            "(137861, 21, 1)\n"
          ]
        }
      ],
      "source": [
        "# Reshaping the input to work with a basic RNN\n",
        "tmp_x = pad(preproc_english_sentences, max_french_sequence_length)\n",
        "print(tmp_x.shape)\n",
        "tmp_x = tmp_x.reshape((-1, preproc_french_sentences.shape[-2], 1))\n",
        "print(tmp_x.shape)\n"
      ]
    },
    {
      "cell_type": "code",
      "execution_count": 14,
      "metadata": {
        "colab": {
          "base_uri": "https://localhost:8080/"
        },
        "id": "fmtfXCWCTTfx",
        "outputId": "8c3baa43-132b-4095-9f87-c38bd52acbda"
      },
      "outputs": [
        {
          "output_type": "stream",
          "name": "stdout",
          "text": [
            "Model: \"model\"\n",
            "_________________________________________________________________\n",
            " Layer (type)                Output Shape              Param #   \n",
            "=================================================================\n",
            " input_1 (InputLayer)        [(None, 21, 1)]           0         \n",
            "                                                                 \n",
            " gru (GRU)                   (None, 21, 64)            12864     \n",
            "                                                                 \n",
            " dense (Dense)               (None, 21, 344)           22360     \n",
            "                                                                 \n",
            " activation (Activation)     (None, 21, 344)           0         \n",
            "                                                                 \n",
            "=================================================================\n",
            "Total params: 35,224\n",
            "Trainable params: 35,224\n",
            "Non-trainable params: 0\n",
            "_________________________________________________________________\n",
            "None\n",
            "Model: \"model_1\"\n",
            "_________________________________________________________________\n",
            " Layer (type)                Output Shape              Param #   \n",
            "=================================================================\n",
            " input_2 (InputLayer)        [(None, 21, 1)]           0         \n",
            "                                                                 \n",
            " gru_1 (GRU)                 (None, 21, 64)            12864     \n",
            "                                                                 \n",
            " dense_1 (Dense)             (None, 21, 344)           22360     \n",
            "                                                                 \n",
            " activation_1 (Activation)   (None, 21, 344)           0         \n",
            "                                                                 \n",
            "=================================================================\n",
            "Total params: 35,224\n",
            "Trainable params: 35,224\n",
            "Non-trainable params: 0\n",
            "_________________________________________________________________\n",
            "None\n",
            "Epoch 1/10\n",
            "108/108 [==============================] - 9s 30ms/step - loss: 3.4990 - accuracy: 0.4215 - val_loss: nan - val_accuracy: 0.4700\n",
            "Epoch 2/10\n",
            "108/108 [==============================] - 2s 23ms/step - loss: 2.4179 - accuracy: 0.4721 - val_loss: nan - val_accuracy: 0.4781\n",
            "Epoch 3/10\n",
            "108/108 [==============================] - 2s 23ms/step - loss: 2.1574 - accuracy: 0.5138 - val_loss: nan - val_accuracy: 0.5428\n",
            "Epoch 4/10\n",
            "108/108 [==============================] - 2s 23ms/step - loss: 1.9087 - accuracy: 0.5610 - val_loss: nan - val_accuracy: 0.5705\n",
            "Epoch 5/10\n",
            "108/108 [==============================] - 3s 24ms/step - loss: 1.7522 - accuracy: 0.5758 - val_loss: nan - val_accuracy: 0.5854\n",
            "Epoch 6/10\n",
            "108/108 [==============================] - 2s 23ms/step - loss: 1.6503 - accuracy: 0.5852 - val_loss: nan - val_accuracy: 0.5921\n",
            "Epoch 7/10\n",
            "108/108 [==============================] - 2s 23ms/step - loss: 1.5729 - accuracy: 0.5949 - val_loss: nan - val_accuracy: 0.5992\n",
            "Epoch 8/10\n",
            "108/108 [==============================] - 3s 23ms/step - loss: 1.5097 - accuracy: 0.6027 - val_loss: nan - val_accuracy: 0.6078\n",
            "Epoch 9/10\n",
            "108/108 [==============================] - 2s 23ms/step - loss: 1.4540 - accuracy: 0.6108 - val_loss: nan - val_accuracy: 0.6188\n",
            "Epoch 10/10\n",
            "108/108 [==============================] - 3s 23ms/step - loss: 1.4073 - accuracy: 0.6210 - val_loss: nan - val_accuracy: 0.6247\n",
            "paris jersey est parfois parfois en l' et il est est en en <PAD> <PAD> <PAD> <PAD> <PAD> <PAD> <PAD> <PAD>\n"
          ]
        }
      ],
      "source": [
        "def simple_model(input_shape, output_sequence_length, english_vocab_size, french_vocab_size):\n",
        "    \"\"\"\n",
        "    Build and train a basic RNN on x and y\n",
        "    :param input_shape: Tuple of input shape\n",
        "    :param output_sequence_length: Length of output sequence\n",
        "    :param english_vocab_size: Number of unique English words in the dataset\n",
        "    :param french_vocab_size: Number of unique French words in the dataset\n",
        "    :return: Keras model built, but not trained\n",
        "    \"\"\"\n",
        "    learning_rate = 1e-3\n",
        "     \n",
        "    input_seq = Input(input_shape[1:])\n",
        "\n",
        "    rnn = GRU(64, return_sequences=True)(input_seq)\n",
        "    logits = Dense(french_vocab_size)(rnn)\n",
        "    activation = Activation('softmax')(logits)\n",
        "\n",
        "    model = Model(input_seq, activation)\n",
        "    print(model.summary())\n",
        "    model.compile(loss=sparse_categorical_crossentropy,\n",
        "                  optimizer=Adam(learning_rate),\n",
        "                  metrics=['accuracy'])\n",
        "    return model\n",
        "\n",
        "\n",
        "tests.test_simple_model(simple_model)\n",
        "\n",
        "# Reshaping the input to work with a basic RNN\n",
        "tmp_x = pad(preproc_english_sentences, max_french_sequence_length)\n",
        "tmp_x = tmp_x.reshape((-1, preproc_french_sentences.shape[-2], 1))\n",
        "\n",
        "# Train the neural network\n",
        "simple_rnn_model = simple_model(\n",
        "    tmp_x.shape,\n",
        "    max_french_sequence_length,\n",
        "    english_vocab_size,\n",
        "    french_vocab_size)\n",
        "simple_rnn_model.fit(tmp_x, preproc_french_sentences, batch_size=1024, epochs=10, validation_split=0.2)\n",
        "\n",
        "# Print prediction(s)\n",
        "print(logits_to_text(simple_rnn_model.predict(tmp_x[:1])[0], french_tokenizer))"
      ]
    },
    {
      "cell_type": "markdown",
      "metadata": {
        "id": "y3q-d4XkTTfx"
      },
      "source": [
        "### Model 2: Embedding (IMPLEMENTATION)\n",
        "![RNN](images/embedding.png)\n",
        "You've turned the words into ids, but there's a better representation of a word.  This is called word embeddings.  An embedding is a vector representation of the word that is close to similar words in n-dimensional space, where the n represents the size of the embedding vectors.\n",
        "\n",
        "In this model, you'll create a RNN model using embedding."
      ]
    },
    {
      "cell_type": "code",
      "execution_count": 15,
      "metadata": {
        "colab": {
          "base_uri": "https://localhost:8080/"
        },
        "id": "HOv9fZEmTTfx",
        "outputId": "ff8c00ec-daa2-4854-bc11-8bb2aa83fbfc"
      },
      "outputs": [
        {
          "output_type": "stream",
          "name": "stdout",
          "text": [
            "Model: \"model_2\"\n",
            "_________________________________________________________________\n",
            " Layer (type)                Output Shape              Param #   \n",
            "=================================================================\n",
            " input_3 (InputLayer)        [(None, 21)]              0         \n",
            "                                                                 \n",
            " embed (Embedding)           (None, 21, 32)            6400      \n",
            "                                                                 \n",
            " gru_2 (GRU)                 (None, 21, 64)            18816     \n",
            "                                                                 \n",
            " dense_2 (Dense)             (None, 21, 344)           22360     \n",
            "                                                                 \n",
            " activation_2 (Activation)   (None, 21, 344)           0         \n",
            "                                                                 \n",
            "=================================================================\n",
            "Total params: 47,576\n",
            "Trainable params: 47,576\n",
            "Non-trainable params: 0\n",
            "_________________________________________________________________\n",
            "None\n",
            "Model: \"model_3\"\n",
            "_________________________________________________________________\n",
            " Layer (type)                Output Shape              Param #   \n",
            "=================================================================\n",
            " input_4 (InputLayer)        [(None, 21)]              0         \n",
            "                                                                 \n",
            " embed (Embedding)           (None, 21, 32)            6400      \n",
            "                                                                 \n",
            " gru_3 (GRU)                 (None, 21, 64)            18816     \n",
            "                                                                 \n",
            " dense_3 (Dense)             (None, 21, 344)           22360     \n",
            "                                                                 \n",
            " activation_3 (Activation)   (None, 21, 344)           0         \n",
            "                                                                 \n",
            "=================================================================\n",
            "Total params: 47,576\n",
            "Trainable params: 47,576\n",
            "Non-trainable params: 0\n",
            "_________________________________________________________________\n",
            "None\n",
            "Epoch 1/10\n",
            "108/108 [==============================] - 7s 36ms/step - loss: 3.7906 - accuracy: 0.3998 - val_loss: nan - val_accuracy: 0.4093\n",
            "Epoch 2/10\n",
            "108/108 [==============================] - 3s 26ms/step - loss: 2.8245 - accuracy: 0.4250 - val_loss: nan - val_accuracy: 0.4780\n",
            "Epoch 3/10\n",
            "108/108 [==============================] - 3s 26ms/step - loss: 2.2848 - accuracy: 0.5160 - val_loss: nan - val_accuracy: 0.5499\n",
            "Epoch 4/10\n",
            "108/108 [==============================] - 3s 28ms/step - loss: 1.7542 - accuracy: 0.5846 - val_loss: nan - val_accuracy: 0.6170\n",
            "Epoch 5/10\n",
            "108/108 [==============================] - 3s 28ms/step - loss: 1.4216 - accuracy: 0.6461 - val_loss: nan - val_accuracy: 0.6788\n",
            "Epoch 6/10\n",
            "108/108 [==============================] - 3s 26ms/step - loss: 1.2000 - accuracy: 0.7059 - val_loss: nan - val_accuracy: 0.7288\n",
            "Epoch 7/10\n",
            "108/108 [==============================] - 3s 25ms/step - loss: 1.0363 - accuracy: 0.7431 - val_loss: nan - val_accuracy: 0.7557\n",
            "Epoch 8/10\n",
            "108/108 [==============================] - 3s 26ms/step - loss: 0.9106 - accuracy: 0.7646 - val_loss: nan - val_accuracy: 0.7757\n",
            "Epoch 9/10\n",
            "108/108 [==============================] - 3s 26ms/step - loss: 0.8171 - accuracy: 0.7826 - val_loss: nan - val_accuracy: 0.7907\n",
            "Epoch 10/10\n",
            "108/108 [==============================] - 3s 30ms/step - loss: 0.7454 - accuracy: 0.7975 - val_loss: nan - val_accuracy: 0.8049\n",
            "new jersey est parfois calme au l' et et il est est en en <PAD> <PAD> <PAD> <PAD> <PAD> <PAD> <PAD>\n"
          ]
        }
      ],
      "source": [
        "def embed_model(input_shape, output_sequence_length, english_vocab_size, french_vocab_size):\n",
        "    \"\"\"\n",
        "    Build and train a RNN model using word embedding on x and y\n",
        "    :param input_shape: Tuple of input shape\n",
        "    :param output_sequence_length: Length of output sequence\n",
        "    :param english_vocab_size: Number of unique English words in the dataset\n",
        "    :param french_vocab_size: Number of unique French words in the dataset\n",
        "    :return: Keras model built, but not trained\n",
        "    \"\"\"\n",
        "    learning_rate = 1e-3\n",
        "\n",
        "    # Input is of shape (batch_size, max_sentence_length, 1) since it contains once sentence, and a time step = single word\n",
        "\n",
        "    \n",
        "    input_seq = Input(shape=input_shape[1:])\n",
        "    embedding = Embedding(english_vocab_size+1, 32, input_length=output_sequence_length, name='embed')(input_seq)\n",
        "\n",
        "    rnn = GRU(64, return_sequences=True)(embedding)\n",
        "    logits = Dense(french_vocab_size)(rnn)\n",
        "        \n",
        "    model = Model(input_seq, Activation('softmax')(logits))\n",
        "    print(model.summary())\n",
        "    model.compile(loss=sparse_categorical_crossentropy,\n",
        "                  optimizer=Adam(learning_rate),\n",
        "                  metrics=['accuracy'])\n",
        "    return model\n",
        "    \n",
        "\n",
        "tests.test_embed_model(embed_model)\n",
        "\n",
        "\n",
        "# Reshaping the input to work with a basic RNN\n",
        "tmp_x = pad(preproc_english_sentences, max_french_sequence_length)\n",
        "\n",
        "# NOTE: test_embed_model is inconsistent with other tests in this notebook, and does not add an extra dimension.  \n",
        "\n",
        "# tmp_x = tmp_x.reshape((-1, preproc_french_sentences.shape[-2], 1))\n",
        "\n",
        "# Train the neural network\n",
        "embed_model_ = embed_model(\n",
        "    tmp_x.shape,\n",
        "    max_french_sequence_length,\n",
        "    english_vocab_size,\n",
        "    french_vocab_size)\n",
        "embed_model_.fit(tmp_x, preproc_french_sentences, batch_size=1024, epochs=10, validation_split=0.2)\n",
        "\n",
        "# Print prediction(s)\n",
        "print(logits_to_text(embed_model_.predict(tmp_x[:1])[0], french_tokenizer))\n"
      ]
    },
    {
      "cell_type": "markdown",
      "metadata": {
        "id": "0_yf6ssfTTfy"
      },
      "source": [
        "### Model 3: Bidirectional RNNs (IMPLEMENTATION)\n",
        "![RNN](images/bidirectional.png)\n",
        "One restriction of a RNN is that it can't see the future input, only the past.  This is where bidirectional recurrent neural networks come in.  They are able to see the future data."
      ]
    },
    {
      "cell_type": "code",
      "execution_count": 44,
      "metadata": {
        "colab": {
          "base_uri": "https://localhost:8080/"
        },
        "id": "Ag0HtHnWTTfy",
        "outputId": "178a7c14-882e-40f9-f559-1e09604c7240"
      },
      "outputs": [
        {
          "output_type": "stream",
          "name": "stdout",
          "text": [
            "Model: \"model_18\"\n",
            "_________________________________________________________________\n",
            " Layer (type)                Output Shape              Param #   \n",
            "=================================================================\n",
            " input_32 (InputLayer)       [(None, 21, 1)]           0         \n",
            "                                                                 \n",
            " reshape_27 (Reshape)        (None, 21)                0         \n",
            "                                                                 \n",
            " embed (Embedding)           (None, 21, 32)            6400      \n",
            "                                                                 \n",
            " bidi (Bidirectional)        (None, 21, 128)           37632     \n",
            "                                                                 \n",
            " dense (Dense)               (None, 21, 344)           44376     \n",
            "                                                                 \n",
            " activation_33 (Activation)  (None, 21, 344)           0         \n",
            "                                                                 \n",
            "=================================================================\n",
            "Total params: 88,408\n",
            "Trainable params: 88,408\n",
            "Non-trainable params: 0\n",
            "_________________________________________________________________\n",
            "None\n",
            "Model: \"model_19\"\n",
            "_________________________________________________________________\n",
            " Layer (type)                Output Shape              Param #   \n",
            "=================================================================\n",
            " input_33 (InputLayer)       [(None, 21, 1)]           0         \n",
            "                                                                 \n",
            " reshape_28 (Reshape)        (None, 21)                0         \n",
            "                                                                 \n",
            " embed (Embedding)           (None, 21, 32)            6400      \n",
            "                                                                 \n",
            " bidi (Bidirectional)        (None, 21, 128)           37632     \n",
            "                                                                 \n",
            " dense (Dense)               (None, 21, 344)           44376     \n",
            "                                                                 \n",
            " activation_34 (Activation)  (None, 21, 344)           0         \n",
            "                                                                 \n",
            "=================================================================\n",
            "Total params: 88,408\n",
            "Trainable params: 88,408\n",
            "Non-trainable params: 0\n",
            "_________________________________________________________________\n",
            "None\n",
            "Epoch 1/10\n",
            "108/108 [==============================] - 9s 44ms/step - loss: 1.8266 - accuracy: 0.6060 - val_loss: nan - val_accuracy: 0.7781\n",
            "Epoch 2/10\n",
            "108/108 [==============================] - 4s 35ms/step - loss: 0.5718 - accuracy: 0.8335 - val_loss: nan - val_accuracy: 0.8714\n",
            "Epoch 3/10\n",
            "108/108 [==============================] - 4s 35ms/step - loss: 0.3588 - accuracy: 0.8924 - val_loss: nan - val_accuracy: 0.9091\n",
            "Epoch 4/10\n",
            "108/108 [==============================] - 4s 35ms/step - loss: 0.2693 - accuracy: 0.9194 - val_loss: nan - val_accuracy: 0.9289\n",
            "Epoch 5/10\n",
            "108/108 [==============================] - 4s 35ms/step - loss: 0.2192 - accuracy: 0.9352 - val_loss: nan - val_accuracy: 0.9382\n",
            "Epoch 6/10\n",
            "108/108 [==============================] - 4s 35ms/step - loss: 0.1882 - accuracy: 0.9450 - val_loss: nan - val_accuracy: 0.9455\n",
            "Epoch 7/10\n",
            "108/108 [==============================] - 4s 35ms/step - loss: 0.1718 - accuracy: 0.9498 - val_loss: nan - val_accuracy: 0.9514\n",
            "Epoch 8/10\n",
            "108/108 [==============================] - 4s 35ms/step - loss: 0.1555 - accuracy: 0.9547 - val_loss: nan - val_accuracy: 0.9559\n",
            "Epoch 9/10\n",
            "108/108 [==============================] - 4s 35ms/step - loss: 0.1460 - accuracy: 0.9576 - val_loss: nan - val_accuracy: 0.9564\n",
            "Epoch 10/10\n",
            "108/108 [==============================] - 4s 35ms/step - loss: 0.1379 - accuracy: 0.9600 - val_loss: nan - val_accuracy: 0.9601\n",
            "new jersey est parfois calme pendant l' automne et il est neigeux en avril <PAD> <PAD> <PAD> <PAD> <PAD> <PAD> <PAD>\n"
          ]
        }
      ],
      "source": [
        "\n",
        "def bd_model(input_shape, output_sequence_length, english_vocab_size, french_vocab_size):\n",
        "    \"\"\"\n",
        "    Build and train a bidirectional RNN model on x and y\n",
        "    :param input_shape: Tuple of input shape\n",
        "    :param output_sequence_length: Length of output sequence\n",
        "    :param english_vocab_size: Number of unique English words in the dataset\n",
        "    :param french_vocab_size: Number of unique French words in the dataset\n",
        "    :return: Keras model built, but not trained\n",
        "    \"\"\"\n",
        "    learning_rate = 1e-2\n",
        "    \n",
        "    input_seq = Input(shape=input_shape[1:])\n",
        "    time_dim = list(input_shape)[1]\n",
        "    input_seq_reshaped = Reshape((time_dim,))(input_seq)\n",
        "    embedding = Embedding(english_vocab_size+1, 32, name='embed')(input_seq_reshaped)\n",
        "    rnn = Bidirectional(GRU(64, return_sequences=True), name=\"bidi\")(embedding)\n",
        "    logits = Dense(french_vocab_size, name=\"dense\")(rnn)\n",
        "        \n",
        "    model = Model(input_seq, Activation('softmax')(logits))\n",
        "    \n",
        "    print(model.summary())\n",
        "\n",
        "    model.compile(loss=sparse_categorical_crossentropy,\n",
        "                  optimizer=Adam(learning_rate),\n",
        "                  metrics=['accuracy'])\n",
        "    return model\n",
        "    \n",
        "    \n",
        "tests.test_bd_model(bd_model)\n",
        "\n",
        "\n",
        "# TODO: Train and Print prediction(s)\n",
        "\n",
        "# Reshaping the input to work with a basic RNN\n",
        "tmp_x = pad(preproc_english_sentences, max_french_sequence_length)\n",
        "tmp_x = tmp_x.reshape((-1, preproc_french_sentences.shape[-2], 1))\n",
        "\n",
        "# Train the neural network\n",
        "bd_model_ = bd_model(\n",
        "    tmp_x.shape,\n",
        "    max_french_sequence_length,\n",
        "    english_vocab_size,\n",
        "    french_vocab_size)\n",
        "bd_model_.fit(tmp_x, preproc_french_sentences, batch_size=1024, epochs=10, validation_split=0.2)\n",
        "\n",
        "# Print prediction(s)\n",
        "print(logits_to_text(bd_model_.predict(tmp_x[:1])[0], french_tokenizer))"
      ]
    },
    {
      "cell_type": "markdown",
      "metadata": {
        "id": "tn-hTVAOTTfy"
      },
      "source": [
        "### Model 4: Encoder-Decoder (OPTIONAL)\n",
        "Time to look at encoder-decoder models.  This model is made up of an encoder and decoder. The encoder creates a matrix representation of the sentence.  The decoder takes this matrix as input and predicts the translation as output.\n",
        "\n",
        "Create an encoder-decoder model in the cell below."
      ]
    },
    {
      "cell_type": "code",
      "execution_count": 46,
      "metadata": {
        "colab": {
          "base_uri": "https://localhost:8080/"
        },
        "id": "xMjHxRBCTTfy",
        "outputId": "4e357ab0-1b65-4e7e-d0a5-8b31b80a8c00"
      },
      "outputs": [
        {
          "output_type": "stream",
          "name": "stdout",
          "text": [
            "Model: \"model_22\"\n",
            "__________________________________________________________________________________________________\n",
            " Layer (type)                   Output Shape         Param #     Connected to                     \n",
            "==================================================================================================\n",
            " input_36 (InputLayer)          [(None, 15, 1)]      0           []                               \n",
            "                                                                                                  \n",
            " reshape_31 (Reshape)           (None, 15)           0           ['input_36[0][0]']               \n",
            "                                                                                                  \n",
            " enc_embed (Embedding)          (None, 15, 32)       6400        ['reshape_31[0][0]']             \n",
            "                                                                                                  \n",
            " enc_bidi (GRU)                 [(None, 128),        62208       ['enc_embed[0][0]']              \n",
            "                                 (None, 128)]                                                     \n",
            "                                                                                                  \n",
            " repeat_vector_31 (RepeatVector  (None, 21, 128)     0           ['enc_bidi[0][0]']               \n",
            " )                                                                                                \n",
            "                                                                                                  \n",
            " dec_rnn (GRU)                  (None, 21, 128)      99072       ['repeat_vector_31[0][0]',       \n",
            "                                                                  'enc_bidi[0][1]']               \n",
            "                                                                                                  \n",
            " time_distributed_29 (TimeDistr  (None, 21, 344)     44376       ['dec_rnn[0][0]']                \n",
            " ibuted)                                                                                          \n",
            "                                                                                                  \n",
            " activation_37 (Activation)     (None, 21, 344)      0           ['time_distributed_29[0][0]']    \n",
            "                                                                                                  \n",
            "==================================================================================================\n",
            "Total params: 212,056\n",
            "Trainable params: 212,056\n",
            "Non-trainable params: 0\n",
            "__________________________________________________________________________________________________\n",
            "None\n",
            "Model: \"model_23\"\n",
            "__________________________________________________________________________________________________\n",
            " Layer (type)                   Output Shape         Param #     Connected to                     \n",
            "==================================================================================================\n",
            " input_37 (InputLayer)          [(None, 21, 1)]      0           []                               \n",
            "                                                                                                  \n",
            " reshape_32 (Reshape)           (None, 21)           0           ['input_37[0][0]']               \n",
            "                                                                                                  \n",
            " enc_embed (Embedding)          (None, 21, 32)       6400        ['reshape_32[0][0]']             \n",
            "                                                                                                  \n",
            " enc_bidi (GRU)                 [(None, 128),        62208       ['enc_embed[0][0]']              \n",
            "                                 (None, 128)]                                                     \n",
            "                                                                                                  \n",
            " repeat_vector_32 (RepeatVector  (None, 21, 128)     0           ['enc_bidi[0][0]']               \n",
            " )                                                                                                \n",
            "                                                                                                  \n",
            " dec_rnn (GRU)                  (None, 21, 128)      99072       ['repeat_vector_32[0][0]',       \n",
            "                                                                  'enc_bidi[0][1]']               \n",
            "                                                                                                  \n",
            " time_distributed_30 (TimeDistr  (None, 21, 344)     44376       ['dec_rnn[0][0]']                \n",
            " ibuted)                                                                                          \n",
            "                                                                                                  \n",
            " activation_38 (Activation)     (None, 21, 344)      0           ['time_distributed_30[0][0]']    \n",
            "                                                                                                  \n",
            "==================================================================================================\n",
            "Total params: 212,056\n",
            "Trainable params: 212,056\n",
            "Non-trainable params: 0\n",
            "__________________________________________________________________________________________________\n",
            "None\n",
            "Epoch 1/20\n",
            "54/54 [==============================] - 10s 111ms/step - loss: 2.8325 - accuracy: 0.4456 - val_loss: nan - val_accuracy: 0.5057\n",
            "Epoch 2/20\n",
            "54/54 [==============================] - 5s 94ms/step - loss: 1.9381 - accuracy: 0.5344 - val_loss: nan - val_accuracy: 0.5755\n",
            "Epoch 3/20\n",
            "54/54 [==============================] - 5s 94ms/step - loss: 1.5770 - accuracy: 0.5806 - val_loss: nan - val_accuracy: 0.6027\n",
            "Epoch 4/20\n",
            "54/54 [==============================] - 5s 94ms/step - loss: 1.3186 - accuracy: 0.6313 - val_loss: nan - val_accuracy: 0.6474\n",
            "Epoch 5/20\n",
            "54/54 [==============================] - 5s 94ms/step - loss: 1.1667 - accuracy: 0.6639 - val_loss: nan - val_accuracy: 0.6872\n",
            "Epoch 6/20\n",
            "54/54 [==============================] - 5s 94ms/step - loss: 1.1037 - accuracy: 0.6790 - val_loss: nan - val_accuracy: 0.7071\n",
            "Epoch 7/20\n",
            "54/54 [==============================] - 5s 94ms/step - loss: 0.9416 - accuracy: 0.7182 - val_loss: nan - val_accuracy: 0.7259\n",
            "Epoch 8/20\n",
            "54/54 [==============================] - 5s 94ms/step - loss: 0.9167 - accuracy: 0.7248 - val_loss: nan - val_accuracy: 0.7413\n",
            "Epoch 9/20\n",
            "54/54 [==============================] - 5s 94ms/step - loss: 0.7947 - accuracy: 0.7581 - val_loss: nan - val_accuracy: 0.7672\n",
            "Epoch 10/20\n",
            "54/54 [==============================] - 5s 93ms/step - loss: 0.7334 - accuracy: 0.7760 - val_loss: nan - val_accuracy: 0.7812\n",
            "Epoch 11/20\n",
            "54/54 [==============================] - 5s 94ms/step - loss: 0.7021 - accuracy: 0.7842 - val_loss: nan - val_accuracy: 0.7901\n",
            "Epoch 12/20\n",
            "54/54 [==============================] - 5s 93ms/step - loss: 0.6410 - accuracy: 0.8046 - val_loss: nan - val_accuracy: 0.8189\n",
            "Epoch 13/20\n",
            "54/54 [==============================] - 5s 93ms/step - loss: 0.5604 - accuracy: 0.8306 - val_loss: nan - val_accuracy: 0.8394\n",
            "Epoch 14/20\n",
            "54/54 [==============================] - 5s 94ms/step - loss: 0.5148 - accuracy: 0.8460 - val_loss: nan - val_accuracy: 0.8463\n",
            "Epoch 15/20\n",
            "54/54 [==============================] - 5s 94ms/step - loss: 0.4586 - accuracy: 0.8644 - val_loss: nan - val_accuracy: 0.8735\n",
            "Epoch 16/20\n",
            "54/54 [==============================] - 5s 98ms/step - loss: 0.4095 - accuracy: 0.8814 - val_loss: nan - val_accuracy: 0.8844\n",
            "Epoch 17/20\n",
            "54/54 [==============================] - 5s 94ms/step - loss: 0.3785 - accuracy: 0.8922 - val_loss: nan - val_accuracy: 0.8881\n",
            "Epoch 18/20\n",
            "54/54 [==============================] - 5s 94ms/step - loss: 0.3504 - accuracy: 0.9011 - val_loss: nan - val_accuracy: 0.8992\n",
            "Epoch 19/20\n",
            "54/54 [==============================] - 5s 94ms/step - loss: 0.5649 - accuracy: 0.8420 - val_loss: nan - val_accuracy: 0.8901\n",
            "Epoch 20/20\n",
            "54/54 [==============================] - 5s 95ms/step - loss: 0.3728 - accuracy: 0.8980 - val_loss: nan - val_accuracy: 0.9070\n",
            "new jersey est généralement chaud pendant l' automne et il est en en avril <PAD> <PAD> <PAD> <PAD> <PAD> <PAD> <PAD>\n"
          ]
        }
      ],
      "source": [
        "\n",
        "\n",
        "def encdec_model(input_shape, output_sequence_length, english_vocab_size, french_vocab_size):\n",
        "    \"\"\"\n",
        "    Build and train an encoder-decoder model on x and y\n",
        "    :param input_shape: Tuple of input shape\n",
        "    :param output_sequence_length: Length of output sequence\n",
        "    :param english_vocab_size: Number of unique English words in the dataset\n",
        "    :param french_vocab_size: Number of unique French words in the dataset\n",
        "    :return: Keras model built, but not trained\n",
        "    \"\"\"\n",
        "    # OPTIONAL: Implement\n",
        "    \n",
        "    # Encoder\n",
        "    \n",
        "    learning_rate = 1e-2\n",
        "    context_size = 128\n",
        "    embedding_size = 32 \n",
        "    \n",
        "    enc_inputs = Input(shape=input_shape[1:])\n",
        "    \n",
        "    time_dim = list(input_shape)[1]\n",
        "    enc_input_reshaped = Reshape((time_dim,))(enc_inputs)\n",
        "\n",
        "    enc_embedding = Embedding(english_vocab_size+1, embedding_size, name='enc_embed')(enc_input_reshaped)\n",
        "\n",
        "    enc_rnn, enc_hidden_state = GRU(\n",
        "        context_size, \n",
        "        return_state=True, \n",
        "        name=\"enc_bidi\")(enc_embedding)\n",
        "\n",
        "\n",
        "    # Decoder\n",
        "    \n",
        "    dec_inputs = RepeatVector(output_sequence_length)(enc_rnn)\n",
        "    \n",
        "    dec_rnn = GRU(\n",
        "        context_size, \n",
        "        return_sequences=True, \n",
        "        name=\"dec_rnn\")(dec_inputs, initial_state=enc_hidden_state)\n",
        "    \n",
        "    dec_logits = TimeDistributed(Dense(french_vocab_size, name=\"dec_dense\"))(dec_rnn)\n",
        "    \n",
        "    dec_softmax = Activation('softmax')(dec_logits)\n",
        "        \n",
        "    model = Model(enc_inputs, dec_softmax)\n",
        "\n",
        "    print(model.summary())\n",
        "\n",
        "    model.compile(loss=sparse_categorical_crossentropy,\n",
        "                  optimizer=Adam(learning_rate),\n",
        "                  metrics=['accuracy'])\n",
        "    \n",
        "    return model\n",
        "\n",
        "\n",
        "\n",
        "\n",
        "tests.test_encdec_model(encdec_model)\n",
        "\n",
        "\n",
        "# OPTIONAL: Train and Print prediction(s)\n",
        "tmp_x = pad(preproc_english_sentences, max_french_sequence_length)\n",
        "tmp_x = tmp_x.reshape((-1, preproc_french_sentences.shape[-2], 1))\n",
        "\n",
        "# Train the neural network\n",
        "encdec_model_ = encdec_model(\n",
        "    tmp_x.shape,\n",
        "    max_french_sequence_length,\n",
        "    english_vocab_size,\n",
        "    french_vocab_size)\n",
        "\n",
        "encdec_model_.fit(\n",
        "    tmp_x, \n",
        "    preproc_french_sentences,\n",
        "    batch_size=2048, \n",
        "    epochs=20, \n",
        "    validation_split=0.2\n",
        ")\n",
        "\n",
        "# Print prediction(s)\n",
        "print(logits_to_text(encdec_model_.predict(tmp_x[:1])[0], french_tokenizer))"
      ]
    },
    {
      "cell_type": "markdown",
      "metadata": {
        "id": "zKSY5XXWTTfz"
      },
      "source": [
        "#### Encoder Decoder - With bidirectional RNN and Embedding"
      ]
    },
    {
      "cell_type": "code",
      "execution_count": 18,
      "metadata": {
        "id": "gaMT8faKTTfz"
      },
      "outputs": [],
      "source": [
        ""
      ]
    },
    {
      "cell_type": "code",
      "execution_count": 48,
      "metadata": {
        "colab": {
          "base_uri": "https://localhost:8080/"
        },
        "id": "upW4RH2ZTTfz",
        "outputId": "3b5366de-c87e-4f0c-b3b9-25c8cfceb8b1"
      },
      "outputs": [
        {
          "output_type": "stream",
          "name": "stdout",
          "text": [
            "Model: \"model_26\"\n",
            "__________________________________________________________________________________________________\n",
            " Layer (type)                   Output Shape         Param #     Connected to                     \n",
            "==================================================================================================\n",
            " input_40 (InputLayer)          [(None, 15, 1)]      0           []                               \n",
            "                                                                                                  \n",
            " reshape_35 (Reshape)           (None, 15)           0           ['input_40[0][0]']               \n",
            "                                                                                                  \n",
            " enc_embed (Embedding)          (None, 15, 32)       6400        ['reshape_35[0][0]']             \n",
            "                                                                                                  \n",
            " enc_bidi (Bidirectional)       [(None, 128),        124416      ['enc_embed[0][0]']              \n",
            "                                 (None, 128),                                                     \n",
            "                                 (None, 128)]                                                     \n",
            "                                                                                                  \n",
            " repeat_vector_35 (RepeatVector  (None, 21, 128)     0           ['enc_bidi[0][0]']               \n",
            " )                                                                                                \n",
            "                                                                                                  \n",
            " concatenate_5 (Concatenate)    (None, 256)          0           ['enc_bidi[0][1]',               \n",
            "                                                                  'enc_bidi[0][2]']               \n",
            "                                                                                                  \n",
            " dec_rnn (GRU)                  (None, 21, 256)      296448      ['repeat_vector_35[0][0]',       \n",
            "                                                                  'concatenate_5[0][0]']          \n",
            "                                                                                                  \n",
            " time_distributed_33 (TimeDistr  (None, 21, 344)     88408       ['dec_rnn[0][0]']                \n",
            " ibuted)                                                                                          \n",
            "                                                                                                  \n",
            " activation_41 (Activation)     (None, 21, 344)      0           ['time_distributed_33[0][0]']    \n",
            "                                                                                                  \n",
            "==================================================================================================\n",
            "Total params: 515,672\n",
            "Trainable params: 515,672\n",
            "Non-trainable params: 0\n",
            "__________________________________________________________________________________________________\n",
            "None\n",
            "Model: \"model_27\"\n",
            "__________________________________________________________________________________________________\n",
            " Layer (type)                   Output Shape         Param #     Connected to                     \n",
            "==================================================================================================\n",
            " input_41 (InputLayer)          [(None, 21, 1)]      0           []                               \n",
            "                                                                                                  \n",
            " reshape_36 (Reshape)           (None, 21)           0           ['input_41[0][0]']               \n",
            "                                                                                                  \n",
            " enc_embed (Embedding)          (None, 21, 32)       6400        ['reshape_36[0][0]']             \n",
            "                                                                                                  \n",
            " enc_bidi (Bidirectional)       [(None, 128),        124416      ['enc_embed[0][0]']              \n",
            "                                 (None, 128),                                                     \n",
            "                                 (None, 128)]                                                     \n",
            "                                                                                                  \n",
            " repeat_vector_36 (RepeatVector  (None, 21, 128)     0           ['enc_bidi[0][0]']               \n",
            " )                                                                                                \n",
            "                                                                                                  \n",
            " concatenate_6 (Concatenate)    (None, 256)          0           ['enc_bidi[0][1]',               \n",
            "                                                                  'enc_bidi[0][2]']               \n",
            "                                                                                                  \n",
            " dec_rnn (GRU)                  (None, 21, 256)      296448      ['repeat_vector_36[0][0]',       \n",
            "                                                                  'concatenate_6[0][0]']          \n",
            "                                                                                                  \n",
            " time_distributed_34 (TimeDistr  (None, 21, 344)     88408       ['dec_rnn[0][0]']                \n",
            " ibuted)                                                                                          \n",
            "                                                                                                  \n",
            " activation_42 (Activation)     (None, 21, 344)      0           ['time_distributed_34[0][0]']    \n",
            "                                                                                                  \n",
            "==================================================================================================\n",
            "Total params: 515,672\n",
            "Trainable params: 515,672\n",
            "Non-trainable params: 0\n",
            "__________________________________________________________________________________________________\n",
            "None\n",
            "Epoch 1/20\n",
            "54/54 [==============================] - 16s 185ms/step - loss: 2.7749 - accuracy: 0.4483 - val_loss: nan - val_accuracy: 0.5346\n",
            "Epoch 2/20\n",
            "54/54 [==============================] - 9s 163ms/step - loss: 1.5776 - accuracy: 0.5953 - val_loss: nan - val_accuracy: 0.6532\n",
            "Epoch 3/20\n",
            "54/54 [==============================] - 9s 173ms/step - loss: 1.1221 - accuracy: 0.6907 - val_loss: nan - val_accuracy: 0.7258\n",
            "Epoch 4/20\n",
            "54/54 [==============================] - 9s 162ms/step - loss: 0.8582 - accuracy: 0.7550 - val_loss: nan - val_accuracy: 0.7794\n",
            "Epoch 5/20\n",
            "54/54 [==============================] - 9s 162ms/step - loss: 0.7616 - accuracy: 0.7769 - val_loss: nan - val_accuracy: 0.8133\n",
            "Epoch 6/20\n",
            "54/54 [==============================] - 9s 163ms/step - loss: 0.5151 - accuracy: 0.8445 - val_loss: nan - val_accuracy: 0.8724\n",
            "Epoch 7/20\n",
            "54/54 [==============================] - 9s 162ms/step - loss: 0.3628 - accuracy: 0.8935 - val_loss: nan - val_accuracy: 0.9122\n",
            "Epoch 8/20\n",
            "54/54 [==============================] - 9s 162ms/step - loss: 0.2578 - accuracy: 0.9264 - val_loss: nan - val_accuracy: 0.9364\n",
            "Epoch 9/20\n",
            "54/54 [==============================] - 9s 162ms/step - loss: 0.2002 - accuracy: 0.9433 - val_loss: nan - val_accuracy: 0.9477\n",
            "Epoch 10/20\n",
            "54/54 [==============================] - 9s 172ms/step - loss: 0.1612 - accuracy: 0.9542 - val_loss: nan - val_accuracy: 0.9514\n",
            "Epoch 11/20\n",
            "54/54 [==============================] - 9s 161ms/step - loss: 0.1413 - accuracy: 0.9595 - val_loss: nan - val_accuracy: 0.9586\n",
            "Epoch 12/20\n",
            "54/54 [==============================] - 9s 162ms/step - loss: 0.1213 - accuracy: 0.9653 - val_loss: nan - val_accuracy: 0.9615\n",
            "Epoch 13/20\n",
            "54/54 [==============================] - 9s 161ms/step - loss: 0.1063 - accuracy: 0.9695 - val_loss: nan - val_accuracy: 0.9643\n",
            "Epoch 14/20\n",
            "54/54 [==============================] - 9s 162ms/step - loss: 0.1028 - accuracy: 0.9701 - val_loss: nan - val_accuracy: 0.9657\n",
            "Epoch 15/20\n",
            "54/54 [==============================] - 9s 162ms/step - loss: 0.0937 - accuracy: 0.9725 - val_loss: nan - val_accuracy: 0.9704\n",
            "Epoch 16/20\n",
            "54/54 [==============================] - 9s 163ms/step - loss: 0.0792 - accuracy: 0.9767 - val_loss: nan - val_accuracy: 0.9730\n",
            "Epoch 17/20\n",
            "54/54 [==============================] - 9s 162ms/step - loss: 0.0695 - accuracy: 0.9797 - val_loss: nan - val_accuracy: 0.9747\n",
            "Epoch 18/20\n",
            "54/54 [==============================] - 9s 164ms/step - loss: 0.0688 - accuracy: 0.9799 - val_loss: nan - val_accuracy: 0.9746\n",
            "Epoch 19/20\n",
            "54/54 [==============================] - 9s 161ms/step - loss: 0.0648 - accuracy: 0.9808 - val_loss: nan - val_accuracy: 0.9752\n",
            "Epoch 20/20\n",
            "54/54 [==============================] - 9s 162ms/step - loss: 0.0562 - accuracy: 0.9833 - val_loss: nan - val_accuracy: 0.9777\n",
            "new jersey est parfois calme pendant l' automne et il est neigeux en avril <PAD> <PAD> <PAD> <PAD> <PAD> <PAD> <PAD>\n"
          ]
        }
      ],
      "source": [
        "\n",
        "\n",
        "def encdec_emb_bidi_model(input_shape, output_sequence_length, english_vocab_size, french_vocab_size):\n",
        "    \"\"\"\n",
        "    Build and train an encoder-decoder model on x and y\n",
        "    :param input_shape: Tuple of input shape\n",
        "    :param output_sequence_length: Length of output sequence\n",
        "    :param english_vocab_size: Number of unique English words in the dataset\n",
        "    :param french_vocab_size: Number of unique French words in the dataset\n",
        "    :return: Keras model built, but not trained\n",
        "    \"\"\"\n",
        "    # OPTIONAL: Implement\n",
        "    \n",
        "    # Encoder\n",
        "    \n",
        "    learning_rate = 1e-2\n",
        "    context_size = 128\n",
        "    embedding_size = 32 \n",
        "    \n",
        "    enc_inputs = Input(shape=input_shape[1:])\n",
        "    \n",
        "    time_dim = list(input_shape)[1]\n",
        "    enc_input_reshaped = Reshape((time_dim,))(enc_inputs)\n",
        "\n",
        "    enc_embedding = Embedding(english_vocab_size+1, embedding_size, name='enc_embed')(enc_input_reshaped)\n",
        "\n",
        "    \n",
        "    enc_rnn, enc_hidden_state_fwd, enc_hidden_state_bwd = Bidirectional(\n",
        "        layer=GRU(context_size, return_state=True), \n",
        "        merge_mode=\"ave\",\n",
        "        name=\"enc_bidi\",\n",
        "        backward_layer=GRU(context_size, return_state=True, go_backwards=True)\n",
        "       )(enc_embedding)\n",
        "\n",
        "    enc_hidden_state = Concatenate()([enc_hidden_state_fwd, enc_hidden_state_bwd])\n",
        "    # enc_hidden_state = Average()([enc_hidden_state_fwd, enc_hidden_state_bwd])\n",
        "\n",
        "    # Decoder\n",
        "    \n",
        "    dec_inputs = RepeatVector(output_sequence_length)(enc_rnn)\n",
        "    \n",
        "    dec_rnn = GRU(\n",
        "        context_size*2, \n",
        "        return_sequences=True, \n",
        "        name=\"dec_rnn\")(dec_inputs, initial_state=enc_hidden_state)\n",
        "    \n",
        "    dec_logits = TimeDistributed(Dense(french_vocab_size, name=\"dec_dense\"))(dec_rnn)\n",
        "    \n",
        "    dec_softmax = Activation('softmax')(dec_logits)\n",
        "        \n",
        "    model = Model(enc_inputs, dec_softmax)\n",
        "\n",
        "    print(model.summary())\n",
        "\n",
        "    model.compile(loss=sparse_categorical_crossentropy,\n",
        "                  optimizer=Adam(learning_rate),\n",
        "                  metrics=['accuracy'])\n",
        "    \n",
        "    return model\n",
        "\n",
        "\n",
        "\n",
        "\n",
        "tests.test_encdec_model(encdec_emb_bidi_model)\n",
        "\n",
        "\n",
        "# OPTIONAL: Train and Print prediction(s)\n",
        "tmp_x = pad(preproc_english_sentences, max_french_sequence_length)\n",
        "tmp_x = tmp_x.reshape((-1, preproc_french_sentences.shape[-2], 1))\n",
        "\n",
        "# Train the neural network\n",
        "encdec_emb_bidi_model_ = encdec_emb_bidi_model(\n",
        "    tmp_x.shape,\n",
        "    max_french_sequence_length,\n",
        "    english_vocab_size,\n",
        "    french_vocab_size)\n",
        "\n",
        "encdec_emb_bidi_model_.fit(\n",
        "    tmp_x, \n",
        "    preproc_french_sentences,\n",
        "    batch_size=2048, \n",
        "    epochs=20, \n",
        "    validation_split=0.2\n",
        ")\n",
        "\n",
        "# Print prediction(s)\n",
        "print(logits_to_text(encdec_emb_bidi_model_.predict(tmp_x[:1])[0], french_tokenizer))"
      ]
    },
    {
      "cell_type": "markdown",
      "metadata": {
        "id": "LULapO1lTTfz"
      },
      "source": [
        "#### Alternative approach to encoder-decoder - with subclassing the Model class"
      ]
    },
    {
      "cell_type": "code",
      "execution_count": 40,
      "metadata": {
        "colab": {
          "base_uri": "https://localhost:8080/",
          "height": 871
        },
        "id": "KZNoG7HyTTf0",
        "outputId": "b192cebf-0be8-4e74-d8f1-0a40eb904534"
      },
      "outputs": [
        {
          "output_type": "stream",
          "name": "stdout",
          "text": [
            "Epoch 1/10\n"
          ]
        },
        {
          "output_type": "error",
          "ename": "TypeError",
          "evalue": "ignored",
          "traceback": [
            "\u001b[0;31m---------------------------------------------------------------------------\u001b[0m",
            "\u001b[0;31mTypeError\u001b[0m                                 Traceback (most recent call last)",
            "\u001b[0;32m<ipython-input-40-2e0f0cc597b0>\u001b[0m in \u001b[0;36m<module>\u001b[0;34m()\u001b[0m\n\u001b[1;32m    109\u001b[0m     \u001b[0mbatch_size\u001b[0m\u001b[0;34m=\u001b[0m\u001b[0;36m1024\u001b[0m\u001b[0;34m,\u001b[0m\u001b[0;34m\u001b[0m\u001b[0;34m\u001b[0m\u001b[0m\n\u001b[1;32m    110\u001b[0m     \u001b[0mepochs\u001b[0m\u001b[0;34m=\u001b[0m\u001b[0;36m10\u001b[0m\u001b[0;34m,\u001b[0m\u001b[0;34m\u001b[0m\u001b[0;34m\u001b[0m\u001b[0m\n\u001b[0;32m--> 111\u001b[0;31m     \u001b[0mvalidation_split\u001b[0m\u001b[0;34m=\u001b[0m\u001b[0;36m0.2\u001b[0m\u001b[0;34m\u001b[0m\u001b[0;34m\u001b[0m\u001b[0m\n\u001b[0m\u001b[1;32m    112\u001b[0m )\n\u001b[1;32m    113\u001b[0m \u001b[0;34m\u001b[0m\u001b[0m\n",
            "\u001b[0;32m/usr/local/lib/python3.7/dist-packages/keras/utils/traceback_utils.py\u001b[0m in \u001b[0;36merror_handler\u001b[0;34m(*args, **kwargs)\u001b[0m\n\u001b[1;32m     65\u001b[0m     \u001b[0;32mexcept\u001b[0m \u001b[0mException\u001b[0m \u001b[0;32mas\u001b[0m \u001b[0me\u001b[0m\u001b[0;34m:\u001b[0m  \u001b[0;31m# pylint: disable=broad-except\u001b[0m\u001b[0;34m\u001b[0m\u001b[0;34m\u001b[0m\u001b[0m\n\u001b[1;32m     66\u001b[0m       \u001b[0mfiltered_tb\u001b[0m \u001b[0;34m=\u001b[0m \u001b[0m_process_traceback_frames\u001b[0m\u001b[0;34m(\u001b[0m\u001b[0me\u001b[0m\u001b[0;34m.\u001b[0m\u001b[0m__traceback__\u001b[0m\u001b[0;34m)\u001b[0m\u001b[0;34m\u001b[0m\u001b[0;34m\u001b[0m\u001b[0m\n\u001b[0;32m---> 67\u001b[0;31m       \u001b[0;32mraise\u001b[0m \u001b[0me\u001b[0m\u001b[0;34m.\u001b[0m\u001b[0mwith_traceback\u001b[0m\u001b[0;34m(\u001b[0m\u001b[0mfiltered_tb\u001b[0m\u001b[0;34m)\u001b[0m \u001b[0;32mfrom\u001b[0m \u001b[0;32mNone\u001b[0m\u001b[0;34m\u001b[0m\u001b[0;34m\u001b[0m\u001b[0m\n\u001b[0m\u001b[1;32m     68\u001b[0m     \u001b[0;32mfinally\u001b[0m\u001b[0;34m:\u001b[0m\u001b[0;34m\u001b[0m\u001b[0;34m\u001b[0m\u001b[0m\n\u001b[1;32m     69\u001b[0m       \u001b[0;32mdel\u001b[0m \u001b[0mfiltered_tb\u001b[0m\u001b[0;34m\u001b[0m\u001b[0;34m\u001b[0m\u001b[0m\n",
            "\u001b[0;32m/usr/local/lib/python3.7/dist-packages/tensorflow/python/framework/func_graph.py\u001b[0m in \u001b[0;36mautograph_handler\u001b[0;34m(*args, **kwargs)\u001b[0m\n\u001b[1;32m   1145\u001b[0m           \u001b[0;32mexcept\u001b[0m \u001b[0mException\u001b[0m \u001b[0;32mas\u001b[0m \u001b[0me\u001b[0m\u001b[0;34m:\u001b[0m  \u001b[0;31m# pylint:disable=broad-except\u001b[0m\u001b[0;34m\u001b[0m\u001b[0;34m\u001b[0m\u001b[0m\n\u001b[1;32m   1146\u001b[0m             \u001b[0;32mif\u001b[0m \u001b[0mhasattr\u001b[0m\u001b[0;34m(\u001b[0m\u001b[0me\u001b[0m\u001b[0;34m,\u001b[0m \u001b[0;34m\"ag_error_metadata\"\u001b[0m\u001b[0;34m)\u001b[0m\u001b[0;34m:\u001b[0m\u001b[0;34m\u001b[0m\u001b[0;34m\u001b[0m\u001b[0m\n\u001b[0;32m-> 1147\u001b[0;31m               \u001b[0;32mraise\u001b[0m \u001b[0me\u001b[0m\u001b[0;34m.\u001b[0m\u001b[0mag_error_metadata\u001b[0m\u001b[0;34m.\u001b[0m\u001b[0mto_exception\u001b[0m\u001b[0;34m(\u001b[0m\u001b[0me\u001b[0m\u001b[0;34m)\u001b[0m\u001b[0;34m\u001b[0m\u001b[0;34m\u001b[0m\u001b[0m\n\u001b[0m\u001b[1;32m   1148\u001b[0m             \u001b[0;32melse\u001b[0m\u001b[0;34m:\u001b[0m\u001b[0;34m\u001b[0m\u001b[0;34m\u001b[0m\u001b[0m\n\u001b[1;32m   1149\u001b[0m               \u001b[0;32mraise\u001b[0m\u001b[0;34m\u001b[0m\u001b[0;34m\u001b[0m\u001b[0m\n",
            "\u001b[0;31mTypeError\u001b[0m: in user code:\n\n    File \"/usr/local/lib/python3.7/dist-packages/keras/engine/training.py\", line 1021, in train_function  *\n        return step_function(self, iterator)\n    File \"/usr/local/lib/python3.7/dist-packages/keras/engine/training.py\", line 1010, in step_function  **\n        outputs = model.distribute_strategy.run(run_step, args=(data,))\n    File \"/usr/local/lib/python3.7/dist-packages/keras/engine/training.py\", line 1000, in run_step  **\n        outputs = model.train_step(data)\n    File \"/usr/local/lib/python3.7/dist-packages/keras/engine/training.py\", line 860, in train_step\n        loss = self.compute_loss(x, y, y_pred, sample_weight)\n    File \"/usr/local/lib/python3.7/dist-packages/keras/engine/training.py\", line 919, in compute_loss\n        y, y_pred, sample_weight, regularization_losses=self.losses)\n    File \"/usr/local/lib/python3.7/dist-packages/keras/engine/compile_utils.py\", line 240, in __call__\n        total_loss_metric_value, sample_weight=batch_dim)\n    File \"/usr/local/lib/python3.7/dist-packages/keras/utils/metrics_utils.py\", line 70, in decorated\n        update_op = update_state_fn(*args, **kwargs)\n    File \"/usr/local/lib/python3.7/dist-packages/keras/metrics.py\", line 178, in update_state_fn\n        return ag_update_state(*args, **kwargs)\n    File \"/usr/local/lib/python3.7/dist-packages/keras/metrics.py\", line 456, in update_state  **\n        sample_weight, values)\n    File \"/usr/local/lib/python3.7/dist-packages/keras/engine/keras_tensor.py\", line 255, in __array__\n        f'You are passing {self}, an intermediate Keras symbolic input/output, '\n\n    TypeError: You are passing KerasTensor(type_spec=TensorSpec(shape=(), dtype=tf.float32, name=None), name='Placeholder:0', description=\"created by layer 'tf.cast_29'\"), an intermediate Keras symbolic input/output, to a TF API that does not allow registering custom dispatchers, such as `tf.cond`, `tf.function`, gradient tapes, or `tf.map_fn`. Keras Functional model construction only supports TF API calls that *do* support dispatching, such as `tf.math.add` or `tf.reshape`. Other APIs cannot be called directly on symbolic Kerasinputs/outputs. You can work around this limitation by putting the operation in a custom Keras layer `call` and calling that layer on this symbolic input/output.\n"
          ]
        }
      ],
      "source": [
        "\n",
        "class EncoderDecoderTranslatorModel(Model):\n",
        "    context_size = 64 # Must be even (divisible by two)\n",
        "    embedding_size = 32 \n",
        "    \n",
        "    def __init__(\n",
        "        self, \n",
        "        input_shape, \n",
        "        output_sequence_length,\n",
        "        english_vocab_size,\n",
        "        french_vocab_size, \n",
        "        name=\"EncDecTranslatorModel\", \n",
        "        **kwargs):\n",
        "        super(EncoderDecoderTranslatorModel, self).__init__(name=name, **kwargs)\n",
        "        \n",
        "        # Inputs \n",
        "        \n",
        "        self.enc_inputs = Input(shape=input_shape[1:], name=\"input\")\n",
        "        timesteps = list(input_shape)[1]\n",
        "        self.enc_input_reshaper = Reshape((timesteps,), name=\"reshape\")\n",
        "        \n",
        "        # Encoder\n",
        "        \n",
        "        self.enc_embedder = Embedding(english_vocab_size+1, self.embedding_size, name='enc_embed')\n",
        "\n",
        "        self.enc_rnn = Bidirectional(\n",
        "            layer=GRU(self.context_size, return_state=True), \n",
        "            merge_mode=\"ave\",\n",
        "            name=\"enc_bidi\",\n",
        "            backward_layer=GRU(self.context_size, return_state=True, go_backwards=True)\n",
        "          )\n",
        "        self.enc_hidden_averager = Average()\n",
        "\n",
        "        # Decoder\n",
        "\n",
        "        self.dec_input_repeater = RepeatVector(output_sequence_length)\n",
        "\n",
        "        self.dec_rnn = GRU(\n",
        "            self.context_size, \n",
        "            return_sequences=True, \n",
        "            name=\"dec_rnn\")\n",
        "\n",
        "        self.dec_logits = TimeDistributed(Dense(french_vocab_size, name=\"dec_dense\"))\n",
        "        self.dec_softmax = Activation('softmax')\n",
        "        \n",
        "        \n",
        "        \n",
        "    def call(self, inputs):\n",
        "        enc_inputs = self.enc_inputs\n",
        "        enc_inputs_reshaped = self.enc_input_reshaper(enc_inputs)\n",
        "        enc_embedding = self.enc_embedder(enc_inputs_reshaped)\n",
        "        enc_rnn, enc_hidden_state_fwd, enc_hidden_state_bwd = self.enc_rnn(enc_embedding)\n",
        "        enc_hidden_state = self.enc_hidden_averager([enc_hidden_state_fwd, enc_hidden_state_bwd])\n",
        "        dec_inputs = self.dec_input_repeater(enc_hidden_state)\n",
        "        dec_rnn = self.dec_rnn(dec_inputs, initial_state=enc_hidden_state)\n",
        "        dec_logits = self.dec_logits(dec_rnn)\n",
        "        dec_softmax = self.dec_softmax(dec_logits)\n",
        "        \n",
        "        return dec_softmax\n",
        "        \n",
        "\n",
        "def encdec_alt_model(input_shape, output_sequence_length, english_vocab_size, french_vocab_size):\n",
        "    \"\"\"\n",
        "    Build and train an encoder-decoder model on x and y\n",
        "    :param input_shape: Tuple of input shape\n",
        "    :param output_sequence_length: Length of output sequence\n",
        "    :param english_vocab_size: Number of unique English words in the dataset\n",
        "    :param french_vocab_size: Number of unique French words in the dataset\n",
        "    :return: Keras model built, but not trained\n",
        "    \"\"\"\n",
        "    # OPTIONAL: Implement\n",
        "    learning_rate = 1e-3\n",
        "\n",
        "   \n",
        "    model = EncoderDecoderTranslatorModel(\n",
        "        input_shape, \n",
        "        output_sequence_length, \n",
        "        english_vocab_size, \n",
        "        french_vocab_size)\n",
        "    \n",
        "    model.compile(loss=sparse_categorical_crossentropy,\n",
        "                  optimizer=Adam(learning_rate),\n",
        "                  metrics=['accuracy'])\n",
        "    \n",
        "    return model\n",
        "\n",
        "\n",
        "# OPTIONAL: Train and Print prediction(s)\n",
        "tmp_x = pad(preproc_english_sentences, max_french_sequence_length)\n",
        "tmp_x = tmp_x.reshape((-1, preproc_french_sentences.shape[-2], 1))\n",
        "\n",
        "# Train the neural network\n",
        "encdec_alt_model_ = encdec_alt_model(\n",
        "    tmp_x.shape,\n",
        "    max_french_sequence_length,\n",
        "    english_vocab_size,\n",
        "    french_vocab_size)\n",
        "\n",
        "encdec_alt_model_.build(input_shape=tmp_x.shape)\n",
        "encdec_alt_model_.fit(\n",
        "    tmp_x, \n",
        "    preproc_french_sentences,\n",
        "    batch_size=1024, \n",
        "    epochs=10, \n",
        "    validation_split=0.2\n",
        ")\n",
        "\n",
        "# Print prediction(s)\n",
        "print(logits_to_text(encdec_alt_model_.predict(tmp_x[:1])[0], french_tokenizer))"
      ]
    },
    {
      "cell_type": "markdown",
      "metadata": {
        "id": "bw46qfBnTTf0"
      },
      "source": [
        "### Model 5: Custom (IMPLEMENTATION)\n",
        "Use everything you learned from the previous models to create a model that incorporates embedding and a bidirectional rnn into one model."
      ]
    },
    {
      "cell_type": "code",
      "execution_count": 49,
      "metadata": {
        "colab": {
          "base_uri": "https://localhost:8080/"
        },
        "id": "ksG1sTFpTTf1",
        "outputId": "7e769d0e-73de-47bd-8704-2b4fb473e667"
      },
      "outputs": [
        {
          "output_type": "stream",
          "name": "stdout",
          "text": [
            "Model: \"model_28\"\n",
            "__________________________________________________________________________________________________\n",
            " Layer (type)                   Output Shape         Param #     Connected to                     \n",
            "==================================================================================================\n",
            " input_42 (InputLayer)          [(None, 15)]         0           []                               \n",
            "                                                                                                  \n",
            " reshape_37 (Reshape)           (None, 15)           0           ['input_42[0][0]']               \n",
            "                                                                                                  \n",
            " enc_embed (Embedding)          (None, 15, 32)       6400        ['reshape_37[0][0]']             \n",
            "                                                                                                  \n",
            " enc_bidi (Bidirectional)       [(None, 128),        124416      ['enc_embed[0][0]']              \n",
            "                                 (None, 128),                                                     \n",
            "                                 (None, 128)]                                                     \n",
            "                                                                                                  \n",
            " repeat_vector_37 (RepeatVector  (None, 21, 128)     0           ['enc_bidi[0][0]']               \n",
            " )                                                                                                \n",
            "                                                                                                  \n",
            " concatenate_7 (Concatenate)    (None, 256)          0           ['enc_bidi[0][1]',               \n",
            "                                                                  'enc_bidi[0][2]']               \n",
            "                                                                                                  \n",
            " dec_rnn (GRU)                  (None, 21, 256)      296448      ['repeat_vector_37[0][0]',       \n",
            "                                                                  'concatenate_7[0][0]']          \n",
            "                                                                                                  \n",
            " time_distributed_35 (TimeDistr  (None, 21, 344)     88408       ['dec_rnn[0][0]']                \n",
            " ibuted)                                                                                          \n",
            "                                                                                                  \n",
            " activation_43 (Activation)     (None, 21, 344)      0           ['time_distributed_35[0][0]']    \n",
            "                                                                                                  \n",
            "==================================================================================================\n",
            "Total params: 515,672\n",
            "Trainable params: 515,672\n",
            "Non-trainable params: 0\n",
            "__________________________________________________________________________________________________\n",
            "None\n",
            "Final Model Loaded\n",
            "Model: \"model_29\"\n",
            "__________________________________________________________________________________________________\n",
            " Layer (type)                   Output Shape         Param #     Connected to                     \n",
            "==================================================================================================\n",
            " input_43 (InputLayer)          [(None, 21, 1)]      0           []                               \n",
            "                                                                                                  \n",
            " reshape_38 (Reshape)           (None, 21)           0           ['input_43[0][0]']               \n",
            "                                                                                                  \n",
            " enc_embed (Embedding)          (None, 21, 32)       6400        ['reshape_38[0][0]']             \n",
            "                                                                                                  \n",
            " enc_bidi (Bidirectional)       [(None, 128),        124416      ['enc_embed[0][0]']              \n",
            "                                 (None, 128),                                                     \n",
            "                                 (None, 128)]                                                     \n",
            "                                                                                                  \n",
            " repeat_vector_38 (RepeatVector  (None, 21, 128)     0           ['enc_bidi[0][0]']               \n",
            " )                                                                                                \n",
            "                                                                                                  \n",
            " concatenate_8 (Concatenate)    (None, 256)          0           ['enc_bidi[0][1]',               \n",
            "                                                                  'enc_bidi[0][2]']               \n",
            "                                                                                                  \n",
            " dec_rnn (GRU)                  (None, 21, 256)      296448      ['repeat_vector_38[0][0]',       \n",
            "                                                                  'concatenate_8[0][0]']          \n",
            "                                                                                                  \n",
            " time_distributed_36 (TimeDistr  (None, 21, 344)     88408       ['dec_rnn[0][0]']                \n",
            " ibuted)                                                                                          \n",
            "                                                                                                  \n",
            " activation_44 (Activation)     (None, 21, 344)      0           ['time_distributed_36[0][0]']    \n",
            "                                                                                                  \n",
            "==================================================================================================\n",
            "Total params: 515,672\n",
            "Trainable params: 515,672\n",
            "Non-trainable params: 0\n",
            "__________________________________________________________________________________________________\n",
            "None\n",
            "Epoch 1/10\n",
            "108/108 [==============================] - 17s 108ms/step - loss: 2.0695 - accuracy: 0.5390 - val_loss: nan - val_accuracy: 0.6748\n",
            "Epoch 2/10\n",
            "108/108 [==============================] - 10s 93ms/step - loss: 0.9075 - accuracy: 0.7405 - val_loss: nan - val_accuracy: 0.7990\n",
            "Epoch 3/10\n",
            "108/108 [==============================] - 10s 92ms/step - loss: 0.5059 - accuracy: 0.8456 - val_loss: nan - val_accuracy: 0.8846\n",
            "Epoch 4/10\n",
            "108/108 [==============================] - 10s 92ms/step - loss: 0.2888 - accuracy: 0.9158 - val_loss: nan - val_accuracy: 0.9310\n",
            "Epoch 5/10\n",
            "108/108 [==============================] - 10s 91ms/step - loss: 0.2100 - accuracy: 0.9386 - val_loss: nan - val_accuracy: 0.9424\n",
            "Epoch 6/10\n",
            "108/108 [==============================] - 10s 91ms/step - loss: 0.1653 - accuracy: 0.9512 - val_loss: nan - val_accuracy: 0.9508\n",
            "Epoch 7/10\n",
            "108/108 [==============================] - 10s 91ms/step - loss: 0.1531 - accuracy: 0.9547 - val_loss: nan - val_accuracy: 0.9542\n",
            "Epoch 8/10\n",
            "108/108 [==============================] - 10s 91ms/step - loss: 0.1205 - accuracy: 0.9642 - val_loss: nan - val_accuracy: 0.9645\n",
            "Epoch 9/10\n",
            "108/108 [==============================] - 10s 91ms/step - loss: 0.1129 - accuracy: 0.9663 - val_loss: nan - val_accuracy: 0.9605\n",
            "Epoch 10/10\n",
            "108/108 [==============================] - 10s 91ms/step - loss: 0.1277 - accuracy: 0.9620 - val_loss: nan - val_accuracy: 0.9638\n"
          ]
        },
        {
          "output_type": "execute_result",
          "data": {
            "text/plain": [
              "<keras.callbacks.History at 0x7fd61ea69810>"
            ]
          },
          "metadata": {},
          "execution_count": 49
        }
      ],
      "source": [
        "from keras.layers import Reshape, ZeroPadding1D\n",
        "\n",
        "def model_final(input_shape, output_sequence_length, english_vocab_size, french_vocab_size):\n",
        "    \"\"\"\n",
        "    Build and train a model that incorporates embedding, encoder-decoder, and bidirectional RNN on x and y\n",
        "    :param input_shape: Tuple of input shape\n",
        "    :param output_sequence_length: Length of output sequence\n",
        "    :param english_vocab_size: Number of unique English words in the dataset\n",
        "    :param french_vocab_size: Number of unique French words in the dataset\n",
        "    :return: Keras model built, but not trained\n",
        "    \"\"\"\n",
        "\n",
        "    return encdec_emb_bidi_model(input_shape, output_sequence_length, english_vocab_size, french_vocab_size)\n",
        "    \n",
        "    \n",
        "\n",
        "tests.test_model_final(model_final)\n",
        "\n",
        "\n",
        "print('Final Model Loaded')\n",
        "# TODO: Train the final model\n",
        "\n",
        "final_model_ = model_final(\n",
        "    tmp_x.shape,\n",
        "    max_french_sequence_length,\n",
        "    english_vocab_size,\n",
        "    french_vocab_size)\n",
        "final_model_.fit(tmp_x, preproc_french_sentences, batch_size=2048, epochs=20, validation_split=0.2)\n"
      ]
    },
    {
      "cell_type": "markdown",
      "metadata": {
        "id": "S92BNrOZTTf1"
      },
      "source": [
        "## Prediction (IMPLEMENTATION)"
      ]
    },
    {
      "cell_type": "code",
      "execution_count": 51,
      "metadata": {
        "colab": {
          "base_uri": "https://localhost:8080/"
        },
        "id": "v2LMzDLbTTf1",
        "outputId": "b89a2324-fffd-475b-ef90-1767021b631c"
      },
      "outputs": [
        {
          "output_type": "stream",
          "name": "stdout",
          "text": [
            "Model: \"model_31\"\n",
            "__________________________________________________________________________________________________\n",
            " Layer (type)                   Output Shape         Param #     Connected to                     \n",
            "==================================================================================================\n",
            " input_45 (InputLayer)          [(None, 15)]         0           []                               \n",
            "                                                                                                  \n",
            " reshape_40 (Reshape)           (None, 15)           0           ['input_45[0][0]']               \n",
            "                                                                                                  \n",
            " enc_embed (Embedding)          (None, 15, 32)       6400        ['reshape_40[0][0]']             \n",
            "                                                                                                  \n",
            " enc_bidi (Bidirectional)       [(None, 128),        124416      ['enc_embed[0][0]']              \n",
            "                                 (None, 128),                                                     \n",
            "                                 (None, 128)]                                                     \n",
            "                                                                                                  \n",
            " repeat_vector_40 (RepeatVector  (None, 21, 128)     0           ['enc_bidi[0][0]']               \n",
            " )                                                                                                \n",
            "                                                                                                  \n",
            " concatenate_10 (Concatenate)   (None, 256)          0           ['enc_bidi[0][1]',               \n",
            "                                                                  'enc_bidi[0][2]']               \n",
            "                                                                                                  \n",
            " dec_rnn (GRU)                  (None, 21, 256)      296448      ['repeat_vector_40[0][0]',       \n",
            "                                                                  'concatenate_10[0][0]']         \n",
            "                                                                                                  \n",
            " time_distributed_38 (TimeDistr  (None, 21, 344)     88408       ['dec_rnn[0][0]']                \n",
            " ibuted)                                                                                          \n",
            "                                                                                                  \n",
            " activation_46 (Activation)     (None, 21, 344)      0           ['time_distributed_38[0][0]']    \n",
            "                                                                                                  \n",
            "==================================================================================================\n",
            "Total params: 515,672\n",
            "Trainable params: 515,672\n",
            "Non-trainable params: 0\n",
            "__________________________________________________________________________________________________\n",
            "None\n",
            "Epoch 1/20\n",
            "54/54 [==============================] - 16s 197ms/step - loss: 2.7254 - accuracy: 0.4553 - val_loss: nan - val_accuracy: 0.5420\n",
            "Epoch 2/20\n",
            "54/54 [==============================] - 8s 148ms/step - loss: 1.5744 - accuracy: 0.5939 - val_loss: nan - val_accuracy: 0.6384\n",
            "Epoch 3/20\n",
            "54/54 [==============================] - 8s 148ms/step - loss: 1.1979 - accuracy: 0.6707 - val_loss: nan - val_accuracy: 0.6814\n",
            "Epoch 4/20\n",
            "54/54 [==============================] - 8s 148ms/step - loss: 0.9929 - accuracy: 0.7110 - val_loss: nan - val_accuracy: 0.7158\n",
            "Epoch 5/20\n",
            "54/54 [==============================] - 8s 148ms/step - loss: 0.9184 - accuracy: 0.7256 - val_loss: nan - val_accuracy: 0.7518\n",
            "Epoch 6/20\n",
            "54/54 [==============================] - 9s 158ms/step - loss: 0.7705 - accuracy: 0.7650 - val_loss: nan - val_accuracy: 0.7706\n",
            "Epoch 7/20\n",
            "54/54 [==============================] - 8s 149ms/step - loss: 0.6695 - accuracy: 0.7936 - val_loss: nan - val_accuracy: 0.8135\n",
            "Epoch 8/20\n",
            "54/54 [==============================] - 8s 147ms/step - loss: 0.5446 - accuracy: 0.8330 - val_loss: nan - val_accuracy: 0.8501\n",
            "Epoch 9/20\n",
            "54/54 [==============================] - 8s 148ms/step - loss: 0.4501 - accuracy: 0.8624 - val_loss: nan - val_accuracy: 0.8791\n",
            "Epoch 10/20\n",
            "54/54 [==============================] - 8s 147ms/step - loss: 0.3505 - accuracy: 0.8940 - val_loss: nan - val_accuracy: 0.9085\n",
            "Epoch 11/20\n",
            "54/54 [==============================] - 8s 148ms/step - loss: 0.2754 - accuracy: 0.9189 - val_loss: nan - val_accuracy: 0.9295\n",
            "Epoch 12/20\n",
            "54/54 [==============================] - 8s 147ms/step - loss: 0.2271 - accuracy: 0.9332 - val_loss: nan - val_accuracy: 0.9387\n",
            "Epoch 13/20\n",
            "54/54 [==============================] - 8s 147ms/step - loss: 0.1802 - accuracy: 0.9471 - val_loss: nan - val_accuracy: 0.9467\n",
            "Epoch 14/20\n",
            "54/54 [==============================] - 8s 147ms/step - loss: 0.1577 - accuracy: 0.9534 - val_loss: nan - val_accuracy: 0.9529\n",
            "Epoch 15/20\n",
            "54/54 [==============================] - 8s 148ms/step - loss: 0.1613 - accuracy: 0.9518 - val_loss: nan - val_accuracy: 0.9516\n",
            "Epoch 16/20\n",
            "54/54 [==============================] - 8s 147ms/step - loss: 0.1301 - accuracy: 0.9611 - val_loss: nan - val_accuracy: 0.9601\n",
            "Epoch 17/20\n",
            "54/54 [==============================] - 8s 148ms/step - loss: 0.1148 - accuracy: 0.9654 - val_loss: nan - val_accuracy: 0.9635\n",
            "Epoch 18/20\n",
            "54/54 [==============================] - 8s 147ms/step - loss: 0.0977 - accuracy: 0.9704 - val_loss: nan - val_accuracy: 0.9665\n",
            "Epoch 19/20\n",
            "54/54 [==============================] - 8s 148ms/step - loss: 0.0921 - accuracy: 0.9720 - val_loss: nan - val_accuracy: 0.9686\n",
            "Epoch 20/20\n",
            "54/54 [==============================] - 8s 148ms/step - loss: 0.0832 - accuracy: 0.9749 - val_loss: nan - val_accuracy: 0.9663\n",
            "Sample 1:\n",
            "il a vu un vieux camion jaune <PAD> <PAD> <PAD> <PAD> <PAD> <PAD> <PAD> <PAD> <PAD> <PAD> <PAD> <PAD> <PAD> <PAD>\n",
            "Il a vu un vieux camion jaune\n",
            "Sample 2:\n",
            "new jersey est parfois calme pendant l' automne et il est neigeux en avril <PAD> <PAD> <PAD> <PAD> <PAD> <PAD> <PAD>\n",
            "new jersey est parfois calme pendant l' automne et il est neigeux en avril <PAD> <PAD> <PAD> <PAD> <PAD> <PAD> <PAD>\n"
          ]
        }
      ],
      "source": [
        "def final_predictions(x, y, x_tk, y_tk):\n",
        "    \"\"\"\n",
        "    Gets predictions using the final model\n",
        "    :param x: Preprocessed English data\n",
        "    :param y: Preprocessed French data\n",
        "    :param x_tk: English tokenizer\n",
        "    :param y_tk: French tokenizer\n",
        "    \"\"\"\n",
        "    # TODO: Train neural network using model_final\n",
        "    model = model_final(\n",
        "        x.shape,\n",
        "        y.shape[1],\n",
        "        len(x_tk.word_index),\n",
        "        len(y_tk.word_index))\n",
        "    model.fit(x, y, batch_size=2048, epochs=20, validation_split=0.2)\n",
        "\n",
        "    \n",
        "    ## DON'T EDIT ANYTHING BELOW THIS LINE\n",
        "    y_id_to_word = {value: key for key, value in y_tk.word_index.items()}\n",
        "    y_id_to_word[0] = '<PAD>'\n",
        "\n",
        "    sentence = 'he saw a old yellow truck'\n",
        "    sentence = [x_tk.word_index[word] for word in sentence.split()]\n",
        "    sentence = pad_sequences([sentence], maxlen=x.shape[-1], padding='post')\n",
        "    sentences = np.array([sentence[0], x[0]])\n",
        "    predictions = model.predict(sentences, len(sentences))\n",
        "\n",
        "    print('Sample 1:')\n",
        "    print(' '.join([y_id_to_word[np.argmax(x)] for x in predictions[0]]))\n",
        "    print('Il a vu un vieux camion jaune')\n",
        "    print('Sample 2:')\n",
        "    print(' '.join([y_id_to_word[np.argmax(x)] for x in predictions[1]]))\n",
        "    print(' '.join([y_id_to_word[np.max(x)] for x in y[0]]))\n",
        "\n",
        "\n",
        "final_predictions(preproc_english_sentences, preproc_french_sentences, english_tokenizer, french_tokenizer)"
      ]
    },
    {
      "cell_type": "markdown",
      "metadata": {
        "id": "fia2U1lCTTf1"
      },
      "source": [
        "## Submission\n",
        "When you're ready to submit, complete the following steps:\n",
        "1. Review the [rubric](https://review.udacity.com/#!/rubrics/1004/view) to ensure your submission meets all requirements to pass\n",
        "2. Generate an HTML version of this notebook\n",
        "\n",
        "  - Run the next cell to attempt automatic generation (this is the recommended method in Workspaces)\n",
        "  - Navigate to **FILE -> Download as -> HTML (.html)**\n",
        "  - Manually generate a copy using `nbconvert` from your shell terminal\n",
        "```\n",
        "$ pip install nbconvert\n",
        "$ python -m nbconvert machine_translation.ipynb\n",
        "```\n",
        "  \n",
        "3. Submit the project\n",
        "\n",
        "  - If you are in a Workspace, simply click the \"Submit Project\" button (bottom towards the right)\n",
        "  \n",
        "  - Otherwise, add the following files into a zip archive and submit them \n",
        "  - `helper.py`\n",
        "  - `machine_translation.ipynb`\n",
        "  - `machine_translation.html`\n",
        "    - You can export the notebook by navigating to **File -> Download as -> HTML (.html)**."
      ]
    },
    {
      "cell_type": "code",
      "source": [
        "!pip install nbconvert\n",
        "!python -m nbconvert machine_translation.ipynb"
      ],
      "metadata": {
        "colab": {
          "base_uri": "https://localhost:8080/"
        },
        "id": "Tndjbww7sONo",
        "outputId": "37c91234-100b-435c-f828-20fdcac4367b"
      },
      "execution_count": 53,
      "outputs": [
        {
          "output_type": "stream",
          "name": "stdout",
          "text": [
            "Requirement already satisfied: nbconvert in /usr/local/lib/python3.7/dist-packages (5.6.1)\n",
            "Requirement already satisfied: entrypoints>=0.2.2 in /usr/local/lib/python3.7/dist-packages (from nbconvert) (0.4)\n",
            "Requirement already satisfied: testpath in /usr/local/lib/python3.7/dist-packages (from nbconvert) (0.5.0)\n",
            "Requirement already satisfied: jinja2>=2.4 in /usr/local/lib/python3.7/dist-packages (from nbconvert) (2.11.3)\n",
            "Requirement already satisfied: jupyter-core in /usr/local/lib/python3.7/dist-packages (from nbconvert) (4.9.2)\n",
            "Requirement already satisfied: nbformat>=4.4 in /usr/local/lib/python3.7/dist-packages (from nbconvert) (5.1.3)\n",
            "Requirement already satisfied: mistune<2,>=0.8.1 in /usr/local/lib/python3.7/dist-packages (from nbconvert) (0.8.4)\n",
            "Requirement already satisfied: pandocfilters>=1.4.1 in /usr/local/lib/python3.7/dist-packages (from nbconvert) (1.5.0)\n",
            "Requirement already satisfied: pygments in /usr/local/lib/python3.7/dist-packages (from nbconvert) (2.6.1)\n",
            "Requirement already satisfied: defusedxml in /usr/local/lib/python3.7/dist-packages (from nbconvert) (0.7.1)\n",
            "Requirement already satisfied: bleach in /usr/local/lib/python3.7/dist-packages (from nbconvert) (4.1.0)\n",
            "Requirement already satisfied: traitlets>=4.2 in /usr/local/lib/python3.7/dist-packages (from nbconvert) (5.1.1)\n",
            "Requirement already satisfied: MarkupSafe>=0.23 in /usr/local/lib/python3.7/dist-packages (from jinja2>=2.4->nbconvert) (2.0.1)\n",
            "Requirement already satisfied: jsonschema!=2.5.0,>=2.4 in /usr/local/lib/python3.7/dist-packages (from nbformat>=4.4->nbconvert) (4.3.3)\n",
            "Requirement already satisfied: ipython-genutils in /usr/local/lib/python3.7/dist-packages (from nbformat>=4.4->nbconvert) (0.2.0)\n",
            "Requirement already satisfied: importlib-metadata in /usr/local/lib/python3.7/dist-packages (from jsonschema!=2.5.0,>=2.4->nbformat>=4.4->nbconvert) (4.11.1)\n",
            "Requirement already satisfied: typing-extensions in /usr/local/lib/python3.7/dist-packages (from jsonschema!=2.5.0,>=2.4->nbformat>=4.4->nbconvert) (3.10.0.2)\n",
            "Requirement already satisfied: attrs>=17.4.0 in /usr/local/lib/python3.7/dist-packages (from jsonschema!=2.5.0,>=2.4->nbformat>=4.4->nbconvert) (21.4.0)\n",
            "Requirement already satisfied: importlib-resources>=1.4.0 in /usr/local/lib/python3.7/dist-packages (from jsonschema!=2.5.0,>=2.4->nbformat>=4.4->nbconvert) (5.4.0)\n",
            "Requirement already satisfied: pyrsistent!=0.17.0,!=0.17.1,!=0.17.2,>=0.14.0 in /usr/local/lib/python3.7/dist-packages (from jsonschema!=2.5.0,>=2.4->nbformat>=4.4->nbconvert) (0.18.1)\n",
            "Requirement already satisfied: zipp>=3.1.0 in /usr/local/lib/python3.7/dist-packages (from importlib-resources>=1.4.0->jsonschema!=2.5.0,>=2.4->nbformat>=4.4->nbconvert) (3.7.0)\n",
            "Requirement already satisfied: webencodings in /usr/local/lib/python3.7/dist-packages (from bleach->nbconvert) (0.5.1)\n",
            "Requirement already satisfied: packaging in /usr/local/lib/python3.7/dist-packages (from bleach->nbconvert) (21.3)\n",
            "Requirement already satisfied: six>=1.9.0 in /usr/local/lib/python3.7/dist-packages (from bleach->nbconvert) (1.15.0)\n",
            "Requirement already satisfied: pyparsing!=3.0.5,>=2.0.2 in /usr/local/lib/python3.7/dist-packages (from packaging->bleach->nbconvert) (3.0.7)\n",
            "[NbConvertApp] Converting notebook machine_translation.ipynb to html\n",
            "[NbConvertApp] Writing 467928 bytes to machine_translation.html\n"
          ]
        }
      ]
    },
    {
      "cell_type": "markdown",
      "metadata": {
        "id": "0jnB1fEKTTf2"
      },
      "source": [
        "### Generate the html\n",
        "\n",
        "**Save your notebook before running the next cell to generate the HTML output.** Then submit your project."
      ]
    },
    {
      "cell_type": "code",
      "execution_count": null,
      "metadata": {
        "id": "csFO4p7uTTf2"
      },
      "outputs": [],
      "source": [
        "# Save before you run this cell!\n",
        "!!jupyter nbconvert *.ipynb"
      ]
    },
    {
      "cell_type": "markdown",
      "metadata": {
        "id": "5iORiLCKTTf2"
      },
      "source": [
        "## Optional Enhancements\n",
        "\n",
        "This project focuses on learning various network architectures for machine translation, but we don't evaluate the models according to best practices by splitting the data into separate test & training sets -- so the model accuracy is overstated. Use the [`sklearn.model_selection.train_test_split()`](http://scikit-learn.org/stable/modules/generated/sklearn.model_selection.train_test_split.html) function to create separate training & test datasets, then retrain each of the models using only the training set and evaluate the prediction accuracy using the hold out test set. Does the \"best\" model change?"
      ]
    }
  ],
  "metadata": {
    "kernelspec": {
      "display_name": "Python 3",
      "language": "python",
      "name": "python3"
    },
    "language_info": {
      "codemirror_mode": {
        "name": "ipython",
        "version": 3
      },
      "file_extension": ".py",
      "mimetype": "text/x-python",
      "name": "python",
      "nbconvert_exporter": "python",
      "pygments_lexer": "ipython3",
      "version": "3.6.3"
    },
    "colab": {
      "name": "machine_translation.ipynb",
      "provenance": [],
      "collapsed_sections": [],
      "toc_visible": true
    },
    "accelerator": "GPU"
  },
  "nbformat": 4,
  "nbformat_minor": 0
}